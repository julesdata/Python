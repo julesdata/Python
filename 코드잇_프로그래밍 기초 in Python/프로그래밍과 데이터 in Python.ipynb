{
 "cells": [
  {
   "cell_type": "markdown",
   "metadata": {},
   "source": [
    "# 리스트\n",
    "여러 값들을 하나로 묶어주는 자료형. 여러 값을 원하는 순서대로 보관할 수 있음"
   ]
  },
  {
   "cell_type": "code",
   "execution_count": 1,
   "metadata": {},
   "outputs": [],
   "source": [
    "numbers = [2, 3, 5, 7, 11, 13]\n",
    "names = [\"윤수\", \"혜린\", \"태호\", \"영훈\"]"
   ]
  },
  {
   "cell_type": "code",
   "execution_count": 2,
   "metadata": {},
   "outputs": [
    {
     "data": {
      "text/plain": [
       "[2, 3, 5, 7, 11, 13]"
      ]
     },
     "execution_count": 2,
     "metadata": {},
     "output_type": "execute_result"
    }
   ],
   "source": [
    "numbers"
   ]
  },
  {
   "cell_type": "code",
   "execution_count": 3,
   "metadata": {},
   "outputs": [
    {
     "data": {
      "text/plain": [
       "['윤수', '혜린', '태호', '영훈']"
      ]
     },
     "execution_count": 3,
     "metadata": {},
     "output_type": "execute_result"
    }
   ],
   "source": [
    "names"
   ]
  },
  {
   "cell_type": "code",
   "execution_count": 5,
   "metadata": {},
   "outputs": [
    {
     "name": "stdout",
     "output_type": "stream",
     "text": [
      "윤수\n"
     ]
    }
   ],
   "source": [
    "# 리스트의 요소 출력 : 인덱싱\n",
    "print(names[0])"
   ]
  },
  {
   "cell_type": "code",
   "execution_count": 6,
   "metadata": {},
   "outputs": [
    {
     "data": {
      "text/plain": [
       "10"
      ]
     },
     "execution_count": 6,
     "metadata": {},
     "output_type": "execute_result"
    }
   ],
   "source": [
    "numbers[1] + numbers[3]"
   ]
  },
  {
   "cell_type": "code",
   "execution_count": 7,
   "metadata": {},
   "outputs": [
    {
     "data": {
      "text/plain": [
       "10"
      ]
     },
     "execution_count": 7,
     "metadata": {},
     "output_type": "execute_result"
    }
   ],
   "source": [
    "num_1 = numbers[1]\n",
    "num_3 = numbers[3]\n",
    "num_1 + num_3"
   ]
  },
  {
   "cell_type": "code",
   "execution_count": 11,
   "metadata": {},
   "outputs": [
    {
     "data": {
      "text/plain": [
       "13"
      ]
     },
     "execution_count": 11,
     "metadata": {},
     "output_type": "execute_result"
    }
   ],
   "source": [
    "# 마이너스 인덱싱: 끝에서 부터 순서\n",
    "numbers[-1]"
   ]
  },
  {
   "cell_type": "code",
   "execution_count": 12,
   "metadata": {},
   "outputs": [
    {
     "data": {
      "text/plain": [
       "2"
      ]
     },
     "execution_count": 12,
     "metadata": {},
     "output_type": "execute_result"
    }
   ],
   "source": [
    "numbers[-6]"
   ]
  },
  {
   "cell_type": "code",
   "execution_count": 13,
   "metadata": {},
   "outputs": [
    {
     "data": {
      "text/plain": [
       "[2, 3, 5, 7]"
      ]
     },
     "execution_count": 13,
     "metadata": {},
     "output_type": "execute_result"
    }
   ],
   "source": [
    "# 리스트 슬라이싱 : 범위를 지정하여 여러요소 한번에 가져오기\n",
    "numbers[0:4]"
   ]
  },
  {
   "cell_type": "code",
   "execution_count": 14,
   "metadata": {},
   "outputs": [
    {
     "data": {
      "text/plain": [
       "[5, 7, 11, 13]"
      ]
     },
     "execution_count": 14,
     "metadata": {},
     "output_type": "execute_result"
    }
   ],
   "source": [
    "numbers[2:] # 숫자 비워둘 시 처음 혹은 끝을 의미"
   ]
  },
  {
   "cell_type": "code",
   "execution_count": 15,
   "metadata": {},
   "outputs": [
    {
     "data": {
      "text/plain": [
       "[2, 3, 5]"
      ]
     },
     "execution_count": 15,
     "metadata": {},
     "output_type": "execute_result"
    }
   ],
   "source": [
    "numbers[:3] #[x:y] x번부터 ~ y-1번까지 반환"
   ]
  },
  {
   "cell_type": "code",
   "execution_count": 16,
   "metadata": {},
   "outputs": [
    {
     "data": {
      "text/plain": [
       "2"
      ]
     },
     "execution_count": 16,
     "metadata": {},
     "output_type": "execute_result"
    }
   ],
   "source": [
    "# 리스트 요소 수정/재저장\n",
    "numbers[0]"
   ]
  },
  {
   "cell_type": "code",
   "execution_count": 18,
   "metadata": {},
   "outputs": [
    {
     "data": {
      "text/plain": [
       "[7, 3, 5, 7, 11, 13]"
      ]
     },
     "execution_count": 18,
     "metadata": {},
     "output_type": "execute_result"
    }
   ],
   "source": [
    "numbers[0] = 7\n",
    "numbers"
   ]
  },
  {
   "cell_type": "markdown",
   "metadata": {},
   "source": [
    "**리스트 반복문 실습**"
   ]
  },
  {
   "cell_type": "code",
   "execution_count": 57,
   "metadata": {},
   "outputs": [
    {
     "data": {
      "text/plain": [
       "'1901'"
      ]
     },
     "execution_count": 57,
     "metadata": {},
     "output_type": "execute_result"
    }
   ],
   "source": [
    "#문자열 인덱싱\n",
    "Y = 201901\n",
    "str(Y)[-4:]"
   ]
  },
  {
   "cell_type": "code",
   "execution_count": 58,
   "metadata": {},
   "outputs": [
    {
     "name": "stdout",
     "output_type": "stream",
     "text": [
      ", sum(case when sales_mm = 201901 then fmcg_ltsnack else 0 end) as fmcg_ltsnack_1901\n",
      ", sum(case when sales_mm = 201902 then fmcg_ltsnack else 0 end) as fmcg_ltsnack_1902\n",
      ", sum(case when sales_mm = 201903 then fmcg_ltsnack else 0 end) as fmcg_ltsnack_1903\n",
      ", sum(case when sales_mm = 201904 then fmcg_ltsnack else 0 end) as fmcg_ltsnack_1904\n",
      ", sum(case when sales_mm = 201905 then fmcg_ltsnack else 0 end) as fmcg_ltsnack_1905\n",
      ", sum(case when sales_mm = 201906 then fmcg_ltsnack else 0 end) as fmcg_ltsnack_1906\n",
      ", sum(case when sales_mm = 201907 then fmcg_ltsnack else 0 end) as fmcg_ltsnack_1907\n",
      ", sum(case when sales_mm = 201908 then fmcg_ltsnack else 0 end) as fmcg_ltsnack_1908\n",
      ", sum(case when sales_mm = 201909 then fmcg_ltsnack else 0 end) as fmcg_ltsnack_1909\n",
      ", sum(case when sales_mm = 201910 then fmcg_ltsnack else 0 end) as fmcg_ltsnack_1910\n",
      ", sum(case when sales_mm = 201911 then fmcg_ltsnack else 0 end) as fmcg_ltsnack_1911\n",
      ", sum(case when sales_mm = 201912 then fmcg_ltsnack else 0 end) as fmcg_ltsnack_1912\n"
     ]
    }
   ],
   "source": [
    "#문자열 인덱싱 이용해 코드문 출력함수 만들기\n",
    "#2019년\n",
    "Y = 201901\n",
    "v = 'fmcg_ltsnack'\n",
    "\n",
    "while Y <= 201912 :\n",
    "    print(f\", sum(case when sales_mm = {Y} then {v} else 0 end) as {v}_{str(Y)[-4:]}\")\n",
    "    Y += 1\n",
    " "
   ]
  },
  {
   "cell_type": "code",
   "execution_count": 59,
   "metadata": {},
   "outputs": [
    {
     "name": "stdout",
     "output_type": "stream",
     "text": [
      ", sum(case when sales_mm = 202001 then fmcg_ltsnack else 0 end) as fmcg_ltsnack_2001\n",
      ", sum(case when sales_mm = 202002 then fmcg_ltsnack else 0 end) as fmcg_ltsnack_2002\n",
      ", sum(case when sales_mm = 202003 then fmcg_ltsnack else 0 end) as fmcg_ltsnack_2003\n",
      ", sum(case when sales_mm = 202004 then fmcg_ltsnack else 0 end) as fmcg_ltsnack_2004\n",
      ", sum(case when sales_mm = 202005 then fmcg_ltsnack else 0 end) as fmcg_ltsnack_2005\n",
      ", sum(case when sales_mm = 202006 then fmcg_ltsnack else 0 end) as fmcg_ltsnack_2006\n",
      ", sum(case when sales_mm = 202007 then fmcg_ltsnack else 0 end) as fmcg_ltsnack_2007\n",
      ", sum(case when sales_mm = 202008 then fmcg_ltsnack else 0 end) as fmcg_ltsnack_2008\n",
      ", sum(case when sales_mm = 202009 then fmcg_ltsnack else 0 end) as fmcg_ltsnack_2009\n",
      ", sum(case when sales_mm = 202010 then fmcg_ltsnack else 0 end) as fmcg_ltsnack_2010\n",
      ", sum(case when sales_mm = 202011 then fmcg_ltsnack else 0 end) as fmcg_ltsnack_2011\n",
      ", sum(case when sales_mm = 202012 then fmcg_ltsnack else 0 end) as fmcg_ltsnack_2012\n"
     ]
    }
   ],
   "source": [
    "#2020년\n",
    "Y = 202001\n",
    "v = 'fmcg_ltsnack'\n",
    "\n",
    "while Y <= 202012 :\n",
    "    print(f\", sum(case when sales_mm = {Y} then {v} else 0 end) as {v}_{str(Y)[-4:]}\")\n",
    "    Y += 1"
   ]
  },
  {
   "cell_type": "code",
   "execution_count": 60,
   "metadata": {},
   "outputs": [
    {
     "name": "stdout",
     "output_type": "stream",
     "text": [
      ", sum(case when sales_mm = 202101 then fmcg_ltsnack else 0 end) as fmcg_ltsnack_2101\n",
      ", sum(case when sales_mm = 202102 then fmcg_ltsnack else 0 end) as fmcg_ltsnack_2102\n",
      ", sum(case when sales_mm = 202103 then fmcg_ltsnack else 0 end) as fmcg_ltsnack_2103\n",
      ", sum(case when sales_mm = 202104 then fmcg_ltsnack else 0 end) as fmcg_ltsnack_2104\n",
      ", sum(case when sales_mm = 202105 then fmcg_ltsnack else 0 end) as fmcg_ltsnack_2105\n",
      ", sum(case when sales_mm = 202106 then fmcg_ltsnack else 0 end) as fmcg_ltsnack_2106\n",
      ", sum(case when sales_mm = 202107 then fmcg_ltsnack else 0 end) as fmcg_ltsnack_2107\n",
      ", sum(case when sales_mm = 202108 then fmcg_ltsnack else 0 end) as fmcg_ltsnack_2108\n",
      ", sum(case when sales_mm = 202109 then fmcg_ltsnack else 0 end) as fmcg_ltsnack_2109\n",
      ", sum(case when sales_mm = 202110 then fmcg_ltsnack else 0 end) as fmcg_ltsnack_2110\n"
     ]
    }
   ],
   "source": [
    "#2021년\n",
    "Y = 202101\n",
    "v = 'fmcg_ltsnack'\n",
    "\n",
    "while Y <= 202110 :  # 21년은 10월까지만\n",
    "    print(f\", sum(case when sales_mm = {Y} then {v} else 0 end) as {v}_{str(Y)[-4:]}\")\n",
    "    Y += 1"
   ]
  },
  {
   "cell_type": "code",
   "execution_count": 61,
   "metadata": {},
   "outputs": [
    {
     "name": "stdout",
     "output_type": "stream",
     "text": [
      ", sum(case when sales_mm = 201901 then fmcg_ltsnack else 0 end) as fmcg_ltsnack_1901\n",
      ", sum(case when sales_mm = 201902 then fmcg_ltsnack else 0 end) as fmcg_ltsnack_1902\n",
      ", sum(case when sales_mm = 201903 then fmcg_ltsnack else 0 end) as fmcg_ltsnack_1903\n",
      ", sum(case when sales_mm = 201904 then fmcg_ltsnack else 0 end) as fmcg_ltsnack_1904\n",
      ", sum(case when sales_mm = 201905 then fmcg_ltsnack else 0 end) as fmcg_ltsnack_1905\n",
      ", sum(case when sales_mm = 201906 then fmcg_ltsnack else 0 end) as fmcg_ltsnack_1906\n",
      ", sum(case when sales_mm = 201907 then fmcg_ltsnack else 0 end) as fmcg_ltsnack_1907\n",
      ", sum(case when sales_mm = 201908 then fmcg_ltsnack else 0 end) as fmcg_ltsnack_1908\n",
      ", sum(case when sales_mm = 201909 then fmcg_ltsnack else 0 end) as fmcg_ltsnack_1909\n",
      ", sum(case when sales_mm = 201910 then fmcg_ltsnack else 0 end) as fmcg_ltsnack_1910\n",
      ", sum(case when sales_mm = 201911 then fmcg_ltsnack else 0 end) as fmcg_ltsnack_1911\n",
      ", sum(case when sales_mm = 201912 then fmcg_ltsnack else 0 end) as fmcg_ltsnack_1912\n",
      ", sum(case when sales_mm = 202001 then fmcg_ltsnack else 0 end) as fmcg_ltsnack_2001\n",
      ", sum(case when sales_mm = 202002 then fmcg_ltsnack else 0 end) as fmcg_ltsnack_2002\n",
      ", sum(case when sales_mm = 202003 then fmcg_ltsnack else 0 end) as fmcg_ltsnack_2003\n",
      ", sum(case when sales_mm = 202004 then fmcg_ltsnack else 0 end) as fmcg_ltsnack_2004\n",
      ", sum(case when sales_mm = 202005 then fmcg_ltsnack else 0 end) as fmcg_ltsnack_2005\n",
      ", sum(case when sales_mm = 202006 then fmcg_ltsnack else 0 end) as fmcg_ltsnack_2006\n",
      ", sum(case when sales_mm = 202007 then fmcg_ltsnack else 0 end) as fmcg_ltsnack_2007\n",
      ", sum(case when sales_mm = 202008 then fmcg_ltsnack else 0 end) as fmcg_ltsnack_2008\n",
      ", sum(case when sales_mm = 202009 then fmcg_ltsnack else 0 end) as fmcg_ltsnack_2009\n",
      ", sum(case when sales_mm = 202010 then fmcg_ltsnack else 0 end) as fmcg_ltsnack_2010\n",
      ", sum(case when sales_mm = 202011 then fmcg_ltsnack else 0 end) as fmcg_ltsnack_2011\n",
      ", sum(case when sales_mm = 202012 then fmcg_ltsnack else 0 end) as fmcg_ltsnack_2012\n",
      ", sum(case when sales_mm = 202101 then fmcg_ltsnack else 0 end) as fmcg_ltsnack_2101\n",
      ", sum(case when sales_mm = 202102 then fmcg_ltsnack else 0 end) as fmcg_ltsnack_2102\n",
      ", sum(case when sales_mm = 202103 then fmcg_ltsnack else 0 end) as fmcg_ltsnack_2103\n",
      ", sum(case when sales_mm = 202104 then fmcg_ltsnack else 0 end) as fmcg_ltsnack_2104\n",
      ", sum(case when sales_mm = 202105 then fmcg_ltsnack else 0 end) as fmcg_ltsnack_2105\n",
      ", sum(case when sales_mm = 202106 then fmcg_ltsnack else 0 end) as fmcg_ltsnack_2106\n",
      ", sum(case when sales_mm = 202107 then fmcg_ltsnack else 0 end) as fmcg_ltsnack_2107\n",
      ", sum(case when sales_mm = 202108 then fmcg_ltsnack else 0 end) as fmcg_ltsnack_2108\n",
      ", sum(case when sales_mm = 202109 then fmcg_ltsnack else 0 end) as fmcg_ltsnack_2109\n",
      ", sum(case when sales_mm = 202110 then fmcg_ltsnack else 0 end) as fmcg_ltsnack_2110\n"
     ]
    }
   ],
   "source": [
    "#19년 1월부터 21년 11월까지 한번에 출력하기\n",
    "Y = 19\n",
    "while Y <= 21 :\n",
    "    MM = int(f\"20{Y}01\")\n",
    "    while MM <= int(f\"20{Y}12\") :\n",
    "        print(f\", sum(case when sales_mm = {MM} then {v} else 0 end) as {v}_{str(MM)[-4:]}\")\n",
    "        MM += 1\n",
    "        if MM == 202111 :\n",
    "            break\n",
    "    Y += 1\n"
   ]
  },
  {
   "cell_type": "code",
   "execution_count": 62,
   "metadata": {},
   "outputs": [
    {
     "name": "stdout",
     "output_type": "stream",
     "text": [
      ", sum(case when sales_mm = 201901 then fmcg_amt6 else 0 end) as fmcg_snack_1901\n",
      ", sum(case when sales_mm = 201902 then fmcg_amt6 else 0 end) as fmcg_snack_1902\n",
      ", sum(case when sales_mm = 201903 then fmcg_amt6 else 0 end) as fmcg_snack_1903\n",
      ", sum(case when sales_mm = 201904 then fmcg_amt6 else 0 end) as fmcg_snack_1904\n",
      ", sum(case when sales_mm = 201905 then fmcg_amt6 else 0 end) as fmcg_snack_1905\n",
      ", sum(case when sales_mm = 201906 then fmcg_amt6 else 0 end) as fmcg_snack_1906\n",
      ", sum(case when sales_mm = 201907 then fmcg_amt6 else 0 end) as fmcg_snack_1907\n",
      ", sum(case when sales_mm = 201908 then fmcg_amt6 else 0 end) as fmcg_snack_1908\n",
      ", sum(case when sales_mm = 201909 then fmcg_amt6 else 0 end) as fmcg_snack_1909\n",
      ", sum(case when sales_mm = 201910 then fmcg_amt6 else 0 end) as fmcg_snack_1910\n",
      ", sum(case when sales_mm = 201911 then fmcg_amt6 else 0 end) as fmcg_snack_1911\n",
      ", sum(case when sales_mm = 201912 then fmcg_amt6 else 0 end) as fmcg_snack_1912\n",
      ", sum(case when sales_mm = 202001 then fmcg_amt6 else 0 end) as fmcg_snack_2001\n",
      ", sum(case when sales_mm = 202002 then fmcg_amt6 else 0 end) as fmcg_snack_2002\n",
      ", sum(case when sales_mm = 202003 then fmcg_amt6 else 0 end) as fmcg_snack_2003\n",
      ", sum(case when sales_mm = 202004 then fmcg_amt6 else 0 end) as fmcg_snack_2004\n",
      ", sum(case when sales_mm = 202005 then fmcg_amt6 else 0 end) as fmcg_snack_2005\n",
      ", sum(case when sales_mm = 202006 then fmcg_amt6 else 0 end) as fmcg_snack_2006\n",
      ", sum(case when sales_mm = 202007 then fmcg_amt6 else 0 end) as fmcg_snack_2007\n",
      ", sum(case when sales_mm = 202008 then fmcg_amt6 else 0 end) as fmcg_snack_2008\n",
      ", sum(case when sales_mm = 202009 then fmcg_amt6 else 0 end) as fmcg_snack_2009\n",
      ", sum(case when sales_mm = 202010 then fmcg_amt6 else 0 end) as fmcg_snack_2010\n",
      ", sum(case when sales_mm = 202011 then fmcg_amt6 else 0 end) as fmcg_snack_2011\n",
      ", sum(case when sales_mm = 202012 then fmcg_amt6 else 0 end) as fmcg_snack_2012\n",
      ", sum(case when sales_mm = 202101 then fmcg_amt6 else 0 end) as fmcg_snack_2101\n",
      ", sum(case when sales_mm = 202102 then fmcg_amt6 else 0 end) as fmcg_snack_2102\n",
      ", sum(case when sales_mm = 202103 then fmcg_amt6 else 0 end) as fmcg_snack_2103\n",
      ", sum(case when sales_mm = 202104 then fmcg_amt6 else 0 end) as fmcg_snack_2104\n",
      ", sum(case when sales_mm = 202105 then fmcg_amt6 else 0 end) as fmcg_snack_2105\n",
      ", sum(case when sales_mm = 202106 then fmcg_amt6 else 0 end) as fmcg_snack_2106\n",
      ", sum(case when sales_mm = 202107 then fmcg_amt6 else 0 end) as fmcg_snack_2107\n",
      ", sum(case when sales_mm = 202108 then fmcg_amt6 else 0 end) as fmcg_snack_2108\n",
      ", sum(case when sales_mm = 202109 then fmcg_amt6 else 0 end) as fmcg_snack_2109\n",
      ", sum(case when sales_mm = 202110 then fmcg_amt6 else 0 end) as fmcg_snack_2110\n",
      ", sum(case when sales_mm = 201901 then fmcg_ltsnack else 0 end) as fmcg_ltsnack_1901\n",
      ", sum(case when sales_mm = 201902 then fmcg_ltsnack else 0 end) as fmcg_ltsnack_1902\n",
      ", sum(case when sales_mm = 201903 then fmcg_ltsnack else 0 end) as fmcg_ltsnack_1903\n",
      ", sum(case when sales_mm = 201904 then fmcg_ltsnack else 0 end) as fmcg_ltsnack_1904\n",
      ", sum(case when sales_mm = 201905 then fmcg_ltsnack else 0 end) as fmcg_ltsnack_1905\n",
      ", sum(case when sales_mm = 201906 then fmcg_ltsnack else 0 end) as fmcg_ltsnack_1906\n",
      ", sum(case when sales_mm = 201907 then fmcg_ltsnack else 0 end) as fmcg_ltsnack_1907\n",
      ", sum(case when sales_mm = 201908 then fmcg_ltsnack else 0 end) as fmcg_ltsnack_1908\n",
      ", sum(case when sales_mm = 201909 then fmcg_ltsnack else 0 end) as fmcg_ltsnack_1909\n",
      ", sum(case when sales_mm = 201910 then fmcg_ltsnack else 0 end) as fmcg_ltsnack_1910\n",
      ", sum(case when sales_mm = 201911 then fmcg_ltsnack else 0 end) as fmcg_ltsnack_1911\n",
      ", sum(case when sales_mm = 201912 then fmcg_ltsnack else 0 end) as fmcg_ltsnack_1912\n",
      ", sum(case when sales_mm = 202001 then fmcg_ltsnack else 0 end) as fmcg_ltsnack_2001\n",
      ", sum(case when sales_mm = 202002 then fmcg_ltsnack else 0 end) as fmcg_ltsnack_2002\n",
      ", sum(case when sales_mm = 202003 then fmcg_ltsnack else 0 end) as fmcg_ltsnack_2003\n",
      ", sum(case when sales_mm = 202004 then fmcg_ltsnack else 0 end) as fmcg_ltsnack_2004\n",
      ", sum(case when sales_mm = 202005 then fmcg_ltsnack else 0 end) as fmcg_ltsnack_2005\n",
      ", sum(case when sales_mm = 202006 then fmcg_ltsnack else 0 end) as fmcg_ltsnack_2006\n",
      ", sum(case when sales_mm = 202007 then fmcg_ltsnack else 0 end) as fmcg_ltsnack_2007\n",
      ", sum(case when sales_mm = 202008 then fmcg_ltsnack else 0 end) as fmcg_ltsnack_2008\n",
      ", sum(case when sales_mm = 202009 then fmcg_ltsnack else 0 end) as fmcg_ltsnack_2009\n",
      ", sum(case when sales_mm = 202010 then fmcg_ltsnack else 0 end) as fmcg_ltsnack_2010\n",
      ", sum(case when sales_mm = 202011 then fmcg_ltsnack else 0 end) as fmcg_ltsnack_2011\n",
      ", sum(case when sales_mm = 202012 then fmcg_ltsnack else 0 end) as fmcg_ltsnack_2012\n",
      ", sum(case when sales_mm = 202101 then fmcg_ltsnack else 0 end) as fmcg_ltsnack_2101\n",
      ", sum(case when sales_mm = 202102 then fmcg_ltsnack else 0 end) as fmcg_ltsnack_2102\n",
      ", sum(case when sales_mm = 202103 then fmcg_ltsnack else 0 end) as fmcg_ltsnack_2103\n",
      ", sum(case when sales_mm = 202104 then fmcg_ltsnack else 0 end) as fmcg_ltsnack_2104\n",
      ", sum(case when sales_mm = 202105 then fmcg_ltsnack else 0 end) as fmcg_ltsnack_2105\n",
      ", sum(case when sales_mm = 202106 then fmcg_ltsnack else 0 end) as fmcg_ltsnack_2106\n",
      ", sum(case when sales_mm = 202107 then fmcg_ltsnack else 0 end) as fmcg_ltsnack_2107\n",
      ", sum(case when sales_mm = 202108 then fmcg_ltsnack else 0 end) as fmcg_ltsnack_2108\n",
      ", sum(case when sales_mm = 202109 then fmcg_ltsnack else 0 end) as fmcg_ltsnack_2109\n",
      ", sum(case when sales_mm = 202110 then fmcg_ltsnack else 0 end) as fmcg_ltsnack_2110\n",
      ", sum(case when sales_mm = 201901 then fmcg_amt else 0 end) as fmcg_amt_1901\n",
      ", sum(case when sales_mm = 201902 then fmcg_amt else 0 end) as fmcg_amt_1902\n",
      ", sum(case when sales_mm = 201903 then fmcg_amt else 0 end) as fmcg_amt_1903\n",
      ", sum(case when sales_mm = 201904 then fmcg_amt else 0 end) as fmcg_amt_1904\n",
      ", sum(case when sales_mm = 201905 then fmcg_amt else 0 end) as fmcg_amt_1905\n",
      ", sum(case when sales_mm = 201906 then fmcg_amt else 0 end) as fmcg_amt_1906\n",
      ", sum(case when sales_mm = 201907 then fmcg_amt else 0 end) as fmcg_amt_1907\n",
      ", sum(case when sales_mm = 201908 then fmcg_amt else 0 end) as fmcg_amt_1908\n",
      ", sum(case when sales_mm = 201909 then fmcg_amt else 0 end) as fmcg_amt_1909\n",
      ", sum(case when sales_mm = 201910 then fmcg_amt else 0 end) as fmcg_amt_1910\n",
      ", sum(case when sales_mm = 201911 then fmcg_amt else 0 end) as fmcg_amt_1911\n",
      ", sum(case when sales_mm = 201912 then fmcg_amt else 0 end) as fmcg_amt_1912\n",
      ", sum(case when sales_mm = 202001 then fmcg_amt else 0 end) as fmcg_amt_2001\n",
      ", sum(case when sales_mm = 202002 then fmcg_amt else 0 end) as fmcg_amt_2002\n",
      ", sum(case when sales_mm = 202003 then fmcg_amt else 0 end) as fmcg_amt_2003\n",
      ", sum(case when sales_mm = 202004 then fmcg_amt else 0 end) as fmcg_amt_2004\n",
      ", sum(case when sales_mm = 202005 then fmcg_amt else 0 end) as fmcg_amt_2005\n",
      ", sum(case when sales_mm = 202006 then fmcg_amt else 0 end) as fmcg_amt_2006\n",
      ", sum(case when sales_mm = 202007 then fmcg_amt else 0 end) as fmcg_amt_2007\n",
      ", sum(case when sales_mm = 202008 then fmcg_amt else 0 end) as fmcg_amt_2008\n",
      ", sum(case when sales_mm = 202009 then fmcg_amt else 0 end) as fmcg_amt_2009\n",
      ", sum(case when sales_mm = 202010 then fmcg_amt else 0 end) as fmcg_amt_2010\n",
      ", sum(case when sales_mm = 202011 then fmcg_amt else 0 end) as fmcg_amt_2011\n",
      ", sum(case when sales_mm = 202012 then fmcg_amt else 0 end) as fmcg_amt_2012\n",
      ", sum(case when sales_mm = 202101 then fmcg_amt else 0 end) as fmcg_amt_2101\n",
      ", sum(case when sales_mm = 202102 then fmcg_amt else 0 end) as fmcg_amt_2102\n",
      ", sum(case when sales_mm = 202103 then fmcg_amt else 0 end) as fmcg_amt_2103\n",
      ", sum(case when sales_mm = 202104 then fmcg_amt else 0 end) as fmcg_amt_2104\n",
      ", sum(case when sales_mm = 202105 then fmcg_amt else 0 end) as fmcg_amt_2105\n",
      ", sum(case when sales_mm = 202106 then fmcg_amt else 0 end) as fmcg_amt_2106\n",
      ", sum(case when sales_mm = 202107 then fmcg_amt else 0 end) as fmcg_amt_2107\n",
      ", sum(case when sales_mm = 202108 then fmcg_amt else 0 end) as fmcg_amt_2108\n",
      ", sum(case when sales_mm = 202109 then fmcg_amt else 0 end) as fmcg_amt_2109\n",
      ", sum(case when sales_mm = 202110 then fmcg_amt else 0 end) as fmcg_amt_2110\n"
     ]
    }
   ],
   "source": [
    "# 모든 열이름 포함해서 전부 한번에 출력하기\n",
    "# 리스트에 열 이름 저장해서, 반복문 이용\n",
    "c = [\"fmcg_amt6\",\"fmcg_ltsnack\",\"fmcg_amt\"]\n",
    "for v in c :\n",
    "    Y = 19\n",
    "    while Y <= 21 :\n",
    "        MM = int(f\"20{Y}01\")\n",
    "        while MM <= int(f\"20{Y}12\") :\n",
    "            if v == \"fmcg_amt6\" :\n",
    "                print(f\", sum(case when sales_mm = {MM} then {v} else 0 end) as fmcg_snack_{str(MM)[-4:]}\")\n",
    "            else :    \n",
    "                print(f\", sum(case when sales_mm = {MM} then {v} else 0 end) as {v}_{str(MM)[-4:]}\")\n",
    "            MM += 1\n",
    "            if MM == 202111 :\n",
    "                break\n",
    "        Y += 1\n"
   ]
  },
  {
   "cell_type": "code",
   "execution_count": null,
   "metadata": {},
   "outputs": [],
   "source": []
  }
 ],
 "metadata": {
  "kernelspec": {
   "display_name": "Python 3",
   "language": "python",
   "name": "python3"
  },
  "language_info": {
   "codemirror_mode": {
    "name": "ipython",
    "version": 3
   },
   "file_extension": ".py",
   "mimetype": "text/x-python",
   "name": "python",
   "nbconvert_exporter": "python",
   "pygments_lexer": "ipython3",
   "version": "3.8.5"
  }
 },
 "nbformat": 4,
 "nbformat_minor": 4
}
