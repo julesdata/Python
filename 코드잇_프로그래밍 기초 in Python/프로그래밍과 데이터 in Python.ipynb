{
 "cells": [
  {
   "cell_type": "markdown",
   "metadata": {},
   "source": [
    "# 리스트\n",
    "여러 값들을 하나로 묶어주는 자료형. 여러 값을 원하는 순서대로 보관할 수 있음"
   ]
  },
  {
   "cell_type": "code",
   "execution_count": 1,
   "metadata": {},
   "outputs": [],
   "source": [
    "numbers = [2, 3, 5, 7, 11, 13]\n",
    "names = [\"윤수\", \"혜린\", \"태호\", \"영훈\"]"
   ]
  },
  {
   "cell_type": "code",
   "execution_count": 2,
   "metadata": {},
   "outputs": [
    {
     "data": {
      "text/plain": [
       "[2, 3, 5, 7, 11, 13]"
      ]
     },
     "execution_count": 2,
     "metadata": {},
     "output_type": "execute_result"
    }
   ],
   "source": [
    "numbers"
   ]
  },
  {
   "cell_type": "code",
   "execution_count": 3,
   "metadata": {},
   "outputs": [
    {
     "data": {
      "text/plain": [
       "['윤수', '혜린', '태호', '영훈']"
      ]
     },
     "execution_count": 3,
     "metadata": {},
     "output_type": "execute_result"
    }
   ],
   "source": [
    "names"
   ]
  },
  {
   "cell_type": "code",
   "execution_count": 5,
   "metadata": {},
   "outputs": [
    {
     "name": "stdout",
     "output_type": "stream",
     "text": [
      "윤수\n"
     ]
    }
   ],
   "source": [
    "# 리스트의 요소 출력 : 인덱싱\n",
    "print(names[0])"
   ]
  },
  {
   "cell_type": "code",
   "execution_count": 6,
   "metadata": {},
   "outputs": [
    {
     "data": {
      "text/plain": [
       "10"
      ]
     },
     "execution_count": 6,
     "metadata": {},
     "output_type": "execute_result"
    }
   ],
   "source": [
    "numbers[1] + numbers[3]"
   ]
  },
  {
   "cell_type": "code",
   "execution_count": 7,
   "metadata": {},
   "outputs": [
    {
     "data": {
      "text/plain": [
       "10"
      ]
     },
     "execution_count": 7,
     "metadata": {},
     "output_type": "execute_result"
    }
   ],
   "source": [
    "num_1 = numbers[1]\n",
    "num_3 = numbers[3]\n",
    "num_1 + num_3"
   ]
  },
  {
   "cell_type": "code",
   "execution_count": 11,
   "metadata": {},
   "outputs": [
    {
     "data": {
      "text/plain": [
       "13"
      ]
     },
     "execution_count": 11,
     "metadata": {},
     "output_type": "execute_result"
    }
   ],
   "source": [
    "# 마이너스 인덱싱: 끝에서 부터 순서\n",
    "numbers[-1]"
   ]
  },
  {
   "cell_type": "code",
   "execution_count": 12,
   "metadata": {},
   "outputs": [
    {
     "data": {
      "text/plain": [
       "2"
      ]
     },
     "execution_count": 12,
     "metadata": {},
     "output_type": "execute_result"
    }
   ],
   "source": [
    "numbers[-6]"
   ]
  },
  {
   "cell_type": "code",
   "execution_count": 13,
   "metadata": {},
   "outputs": [
    {
     "data": {
      "text/plain": [
       "[2, 3, 5, 7]"
      ]
     },
     "execution_count": 13,
     "metadata": {},
     "output_type": "execute_result"
    }
   ],
   "source": [
    "# 리스트 슬라이싱 : 범위를 지정하여 여러요소 한번에 가져오기\n",
    "numbers[0:4]"
   ]
  },
  {
   "cell_type": "code",
   "execution_count": 14,
   "metadata": {},
   "outputs": [
    {
     "data": {
      "text/plain": [
       "[5, 7, 11, 13]"
      ]
     },
     "execution_count": 14,
     "metadata": {},
     "output_type": "execute_result"
    }
   ],
   "source": [
    "numbers[2:] # 숫자 비워둘 시 처음 혹은 끝을 의미"
   ]
  },
  {
   "cell_type": "code",
   "execution_count": 15,
   "metadata": {},
   "outputs": [
    {
     "data": {
      "text/plain": [
       "[2, 3, 5]"
      ]
     },
     "execution_count": 15,
     "metadata": {},
     "output_type": "execute_result"
    }
   ],
   "source": [
    "numbers[:3] #[x:y] x번부터 ~ y-1번까지 반환"
   ]
  },
  {
   "cell_type": "code",
   "execution_count": 16,
   "metadata": {},
   "outputs": [
    {
     "data": {
      "text/plain": [
       "2"
      ]
     },
     "execution_count": 16,
     "metadata": {},
     "output_type": "execute_result"
    }
   ],
   "source": [
    "# 리스트 요소 수정/재저장\n",
    "numbers[0]"
   ]
  },
  {
   "cell_type": "code",
   "execution_count": 18,
   "metadata": {},
   "outputs": [
    {
     "data": {
      "text/plain": [
       "[7, 3, 5, 7, 11, 13]"
      ]
     },
     "execution_count": 18,
     "metadata": {},
     "output_type": "execute_result"
    }
   ],
   "source": [
    "numbers[0] = 7\n",
    "numbers"
   ]
  },
  {
   "cell_type": "markdown",
   "metadata": {},
   "source": [
    "**리스트 반복문 실습**"
   ]
  },
  {
   "cell_type": "code",
   "execution_count": 57,
   "metadata": {},
   "outputs": [
    {
     "data": {
      "text/plain": [
       "'1901'"
      ]
     },
     "execution_count": 57,
     "metadata": {},
     "output_type": "execute_result"
    }
   ],
   "source": [
    "#문자열 인덱싱\n",
    "Y = 201901\n",
    "str(Y)[-4:]"
   ]
  },
  {
   "cell_type": "code",
   "execution_count": 58,
   "metadata": {},
   "outputs": [
    {
     "name": "stdout",
     "output_type": "stream",
     "text": [
      ", sum(case when sales_mm = 201901 then fmcg_ltsnack else 0 end) as fmcg_ltsnack_1901\n",
      ", sum(case when sales_mm = 201902 then fmcg_ltsnack else 0 end) as fmcg_ltsnack_1902\n",
      ", sum(case when sales_mm = 201903 then fmcg_ltsnack else 0 end) as fmcg_ltsnack_1903\n",
      ", sum(case when sales_mm = 201904 then fmcg_ltsnack else 0 end) as fmcg_ltsnack_1904\n",
      ", sum(case when sales_mm = 201905 then fmcg_ltsnack else 0 end) as fmcg_ltsnack_1905\n",
      ", sum(case when sales_mm = 201906 then fmcg_ltsnack else 0 end) as fmcg_ltsnack_1906\n",
      ", sum(case when sales_mm = 201907 then fmcg_ltsnack else 0 end) as fmcg_ltsnack_1907\n",
      ", sum(case when sales_mm = 201908 then fmcg_ltsnack else 0 end) as fmcg_ltsnack_1908\n",
      ", sum(case when sales_mm = 201909 then fmcg_ltsnack else 0 end) as fmcg_ltsnack_1909\n",
      ", sum(case when sales_mm = 201910 then fmcg_ltsnack else 0 end) as fmcg_ltsnack_1910\n",
      ", sum(case when sales_mm = 201911 then fmcg_ltsnack else 0 end) as fmcg_ltsnack_1911\n",
      ", sum(case when sales_mm = 201912 then fmcg_ltsnack else 0 end) as fmcg_ltsnack_1912\n"
     ]
    }
   ],
   "source": [
    "#문자열 인덱싱 이용해 코드문 출력함수 만들기\n",
    "#2019년\n",
    "Y = 201901\n",
    "v = 'fmcg_ltsnack'\n",
    "\n",
    "while Y <= 201912 :\n",
    "    print(f\", sum(case when sales_mm = {Y} then {v} else 0 end) as {v}_{str(Y)[-4:]}\")\n",
    "    Y += 1\n",
    " "
   ]
  },
  {
   "cell_type": "code",
   "execution_count": 59,
   "metadata": {},
   "outputs": [
    {
     "name": "stdout",
     "output_type": "stream",
     "text": [
      ", sum(case when sales_mm = 202001 then fmcg_ltsnack else 0 end) as fmcg_ltsnack_2001\n",
      ", sum(case when sales_mm = 202002 then fmcg_ltsnack else 0 end) as fmcg_ltsnack_2002\n",
      ", sum(case when sales_mm = 202003 then fmcg_ltsnack else 0 end) as fmcg_ltsnack_2003\n",
      ", sum(case when sales_mm = 202004 then fmcg_ltsnack else 0 end) as fmcg_ltsnack_2004\n",
      ", sum(case when sales_mm = 202005 then fmcg_ltsnack else 0 end) as fmcg_ltsnack_2005\n",
      ", sum(case when sales_mm = 202006 then fmcg_ltsnack else 0 end) as fmcg_ltsnack_2006\n",
      ", sum(case when sales_mm = 202007 then fmcg_ltsnack else 0 end) as fmcg_ltsnack_2007\n",
      ", sum(case when sales_mm = 202008 then fmcg_ltsnack else 0 end) as fmcg_ltsnack_2008\n",
      ", sum(case when sales_mm = 202009 then fmcg_ltsnack else 0 end) as fmcg_ltsnack_2009\n",
      ", sum(case when sales_mm = 202010 then fmcg_ltsnack else 0 end) as fmcg_ltsnack_2010\n",
      ", sum(case when sales_mm = 202011 then fmcg_ltsnack else 0 end) as fmcg_ltsnack_2011\n",
      ", sum(case when sales_mm = 202012 then fmcg_ltsnack else 0 end) as fmcg_ltsnack_2012\n"
     ]
    }
   ],
   "source": [
    "#2020년\n",
    "Y = 202001\n",
    "v = 'fmcg_ltsnack'\n",
    "\n",
    "while Y <= 202012 :\n",
    "    print(f\", sum(case when sales_mm = {Y} then {v} else 0 end) as {v}_{str(Y)[-4:]}\")\n",
    "    Y += 1"
   ]
  },
  {
   "cell_type": "code",
   "execution_count": 60,
   "metadata": {},
   "outputs": [
    {
     "name": "stdout",
     "output_type": "stream",
     "text": [
      ", sum(case when sales_mm = 202101 then fmcg_ltsnack else 0 end) as fmcg_ltsnack_2101\n",
      ", sum(case when sales_mm = 202102 then fmcg_ltsnack else 0 end) as fmcg_ltsnack_2102\n",
      ", sum(case when sales_mm = 202103 then fmcg_ltsnack else 0 end) as fmcg_ltsnack_2103\n",
      ", sum(case when sales_mm = 202104 then fmcg_ltsnack else 0 end) as fmcg_ltsnack_2104\n",
      ", sum(case when sales_mm = 202105 then fmcg_ltsnack else 0 end) as fmcg_ltsnack_2105\n",
      ", sum(case when sales_mm = 202106 then fmcg_ltsnack else 0 end) as fmcg_ltsnack_2106\n",
      ", sum(case when sales_mm = 202107 then fmcg_ltsnack else 0 end) as fmcg_ltsnack_2107\n",
      ", sum(case when sales_mm = 202108 then fmcg_ltsnack else 0 end) as fmcg_ltsnack_2108\n",
      ", sum(case when sales_mm = 202109 then fmcg_ltsnack else 0 end) as fmcg_ltsnack_2109\n",
      ", sum(case when sales_mm = 202110 then fmcg_ltsnack else 0 end) as fmcg_ltsnack_2110\n"
     ]
    }
   ],
   "source": [
    "#2021년\n",
    "Y = 202101\n",
    "v = 'fmcg_ltsnack'\n",
    "\n",
    "while Y <= 202110 :  # 21년은 10월까지만\n",
    "    print(f\", sum(case when sales_mm = {Y} then {v} else 0 end) as {v}_{str(Y)[-4:]}\")\n",
    "    Y += 1"
   ]
  },
  {
   "cell_type": "code",
   "execution_count": 61,
   "metadata": {},
   "outputs": [
    {
     "name": "stdout",
     "output_type": "stream",
     "text": [
      ", sum(case when sales_mm = 201901 then fmcg_ltsnack else 0 end) as fmcg_ltsnack_1901\n",
      ", sum(case when sales_mm = 201902 then fmcg_ltsnack else 0 end) as fmcg_ltsnack_1902\n",
      ", sum(case when sales_mm = 201903 then fmcg_ltsnack else 0 end) as fmcg_ltsnack_1903\n",
      ", sum(case when sales_mm = 201904 then fmcg_ltsnack else 0 end) as fmcg_ltsnack_1904\n",
      ", sum(case when sales_mm = 201905 then fmcg_ltsnack else 0 end) as fmcg_ltsnack_1905\n",
      ", sum(case when sales_mm = 201906 then fmcg_ltsnack else 0 end) as fmcg_ltsnack_1906\n",
      ", sum(case when sales_mm = 201907 then fmcg_ltsnack else 0 end) as fmcg_ltsnack_1907\n",
      ", sum(case when sales_mm = 201908 then fmcg_ltsnack else 0 end) as fmcg_ltsnack_1908\n",
      ", sum(case when sales_mm = 201909 then fmcg_ltsnack else 0 end) as fmcg_ltsnack_1909\n",
      ", sum(case when sales_mm = 201910 then fmcg_ltsnack else 0 end) as fmcg_ltsnack_1910\n",
      ", sum(case when sales_mm = 201911 then fmcg_ltsnack else 0 end) as fmcg_ltsnack_1911\n",
      ", sum(case when sales_mm = 201912 then fmcg_ltsnack else 0 end) as fmcg_ltsnack_1912\n",
      ", sum(case when sales_mm = 202001 then fmcg_ltsnack else 0 end) as fmcg_ltsnack_2001\n",
      ", sum(case when sales_mm = 202002 then fmcg_ltsnack else 0 end) as fmcg_ltsnack_2002\n",
      ", sum(case when sales_mm = 202003 then fmcg_ltsnack else 0 end) as fmcg_ltsnack_2003\n",
      ", sum(case when sales_mm = 202004 then fmcg_ltsnack else 0 end) as fmcg_ltsnack_2004\n",
      ", sum(case when sales_mm = 202005 then fmcg_ltsnack else 0 end) as fmcg_ltsnack_2005\n",
      ", sum(case when sales_mm = 202006 then fmcg_ltsnack else 0 end) as fmcg_ltsnack_2006\n",
      ", sum(case when sales_mm = 202007 then fmcg_ltsnack else 0 end) as fmcg_ltsnack_2007\n",
      ", sum(case when sales_mm = 202008 then fmcg_ltsnack else 0 end) as fmcg_ltsnack_2008\n",
      ", sum(case when sales_mm = 202009 then fmcg_ltsnack else 0 end) as fmcg_ltsnack_2009\n",
      ", sum(case when sales_mm = 202010 then fmcg_ltsnack else 0 end) as fmcg_ltsnack_2010\n",
      ", sum(case when sales_mm = 202011 then fmcg_ltsnack else 0 end) as fmcg_ltsnack_2011\n",
      ", sum(case when sales_mm = 202012 then fmcg_ltsnack else 0 end) as fmcg_ltsnack_2012\n",
      ", sum(case when sales_mm = 202101 then fmcg_ltsnack else 0 end) as fmcg_ltsnack_2101\n",
      ", sum(case when sales_mm = 202102 then fmcg_ltsnack else 0 end) as fmcg_ltsnack_2102\n",
      ", sum(case when sales_mm = 202103 then fmcg_ltsnack else 0 end) as fmcg_ltsnack_2103\n",
      ", sum(case when sales_mm = 202104 then fmcg_ltsnack else 0 end) as fmcg_ltsnack_2104\n",
      ", sum(case when sales_mm = 202105 then fmcg_ltsnack else 0 end) as fmcg_ltsnack_2105\n",
      ", sum(case when sales_mm = 202106 then fmcg_ltsnack else 0 end) as fmcg_ltsnack_2106\n",
      ", sum(case when sales_mm = 202107 then fmcg_ltsnack else 0 end) as fmcg_ltsnack_2107\n",
      ", sum(case when sales_mm = 202108 then fmcg_ltsnack else 0 end) as fmcg_ltsnack_2108\n",
      ", sum(case when sales_mm = 202109 then fmcg_ltsnack else 0 end) as fmcg_ltsnack_2109\n",
      ", sum(case when sales_mm = 202110 then fmcg_ltsnack else 0 end) as fmcg_ltsnack_2110\n"
     ]
    }
   ],
   "source": [
    "#19년 1월부터 21년 11월까지 한번에 출력하기\n",
    "Y = 19\n",
    "while Y <= 21 :\n",
    "    MM = int(f\"20{Y}01\")\n",
    "    while MM <= int(f\"20{Y}12\") :\n",
    "        print(f\", sum(case when sales_mm = {MM} then {v} else 0 end) as {v}_{str(MM)[-4:]}\")\n",
    "        MM += 1\n",
    "        if MM == 202111 :\n",
    "            break\n",
    "    Y += 1\n"
   ]
  },
  {
   "cell_type": "code",
   "execution_count": 62,
   "metadata": {},
   "outputs": [
    {
     "name": "stdout",
     "output_type": "stream",
     "text": [
      ", sum(case when sales_mm = 201901 then fmcg_amt6 else 0 end) as fmcg_snack_1901\n",
      ", sum(case when sales_mm = 201902 then fmcg_amt6 else 0 end) as fmcg_snack_1902\n",
      ", sum(case when sales_mm = 201903 then fmcg_amt6 else 0 end) as fmcg_snack_1903\n",
      ", sum(case when sales_mm = 201904 then fmcg_amt6 else 0 end) as fmcg_snack_1904\n",
      ", sum(case when sales_mm = 201905 then fmcg_amt6 else 0 end) as fmcg_snack_1905\n",
      ", sum(case when sales_mm = 201906 then fmcg_amt6 else 0 end) as fmcg_snack_1906\n",
      ", sum(case when sales_mm = 201907 then fmcg_amt6 else 0 end) as fmcg_snack_1907\n",
      ", sum(case when sales_mm = 201908 then fmcg_amt6 else 0 end) as fmcg_snack_1908\n",
      ", sum(case when sales_mm = 201909 then fmcg_amt6 else 0 end) as fmcg_snack_1909\n",
      ", sum(case when sales_mm = 201910 then fmcg_amt6 else 0 end) as fmcg_snack_1910\n",
      ", sum(case when sales_mm = 201911 then fmcg_amt6 else 0 end) as fmcg_snack_1911\n",
      ", sum(case when sales_mm = 201912 then fmcg_amt6 else 0 end) as fmcg_snack_1912\n",
      ", sum(case when sales_mm = 202001 then fmcg_amt6 else 0 end) as fmcg_snack_2001\n",
      ", sum(case when sales_mm = 202002 then fmcg_amt6 else 0 end) as fmcg_snack_2002\n",
      ", sum(case when sales_mm = 202003 then fmcg_amt6 else 0 end) as fmcg_snack_2003\n",
      ", sum(case when sales_mm = 202004 then fmcg_amt6 else 0 end) as fmcg_snack_2004\n",
      ", sum(case when sales_mm = 202005 then fmcg_amt6 else 0 end) as fmcg_snack_2005\n",
      ", sum(case when sales_mm = 202006 then fmcg_amt6 else 0 end) as fmcg_snack_2006\n",
      ", sum(case when sales_mm = 202007 then fmcg_amt6 else 0 end) as fmcg_snack_2007\n",
      ", sum(case when sales_mm = 202008 then fmcg_amt6 else 0 end) as fmcg_snack_2008\n",
      ", sum(case when sales_mm = 202009 then fmcg_amt6 else 0 end) as fmcg_snack_2009\n",
      ", sum(case when sales_mm = 202010 then fmcg_amt6 else 0 end) as fmcg_snack_2010\n",
      ", sum(case when sales_mm = 202011 then fmcg_amt6 else 0 end) as fmcg_snack_2011\n",
      ", sum(case when sales_mm = 202012 then fmcg_amt6 else 0 end) as fmcg_snack_2012\n",
      ", sum(case when sales_mm = 202101 then fmcg_amt6 else 0 end) as fmcg_snack_2101\n",
      ", sum(case when sales_mm = 202102 then fmcg_amt6 else 0 end) as fmcg_snack_2102\n",
      ", sum(case when sales_mm = 202103 then fmcg_amt6 else 0 end) as fmcg_snack_2103\n",
      ", sum(case when sales_mm = 202104 then fmcg_amt6 else 0 end) as fmcg_snack_2104\n",
      ", sum(case when sales_mm = 202105 then fmcg_amt6 else 0 end) as fmcg_snack_2105\n",
      ", sum(case when sales_mm = 202106 then fmcg_amt6 else 0 end) as fmcg_snack_2106\n",
      ", sum(case when sales_mm = 202107 then fmcg_amt6 else 0 end) as fmcg_snack_2107\n",
      ", sum(case when sales_mm = 202108 then fmcg_amt6 else 0 end) as fmcg_snack_2108\n",
      ", sum(case when sales_mm = 202109 then fmcg_amt6 else 0 end) as fmcg_snack_2109\n",
      ", sum(case when sales_mm = 202110 then fmcg_amt6 else 0 end) as fmcg_snack_2110\n",
      ", sum(case when sales_mm = 201901 then fmcg_ltsnack else 0 end) as fmcg_ltsnack_1901\n",
      ", sum(case when sales_mm = 201902 then fmcg_ltsnack else 0 end) as fmcg_ltsnack_1902\n",
      ", sum(case when sales_mm = 201903 then fmcg_ltsnack else 0 end) as fmcg_ltsnack_1903\n",
      ", sum(case when sales_mm = 201904 then fmcg_ltsnack else 0 end) as fmcg_ltsnack_1904\n",
      ", sum(case when sales_mm = 201905 then fmcg_ltsnack else 0 end) as fmcg_ltsnack_1905\n",
      ", sum(case when sales_mm = 201906 then fmcg_ltsnack else 0 end) as fmcg_ltsnack_1906\n",
      ", sum(case when sales_mm = 201907 then fmcg_ltsnack else 0 end) as fmcg_ltsnack_1907\n",
      ", sum(case when sales_mm = 201908 then fmcg_ltsnack else 0 end) as fmcg_ltsnack_1908\n",
      ", sum(case when sales_mm = 201909 then fmcg_ltsnack else 0 end) as fmcg_ltsnack_1909\n",
      ", sum(case when sales_mm = 201910 then fmcg_ltsnack else 0 end) as fmcg_ltsnack_1910\n",
      ", sum(case when sales_mm = 201911 then fmcg_ltsnack else 0 end) as fmcg_ltsnack_1911\n",
      ", sum(case when sales_mm = 201912 then fmcg_ltsnack else 0 end) as fmcg_ltsnack_1912\n",
      ", sum(case when sales_mm = 202001 then fmcg_ltsnack else 0 end) as fmcg_ltsnack_2001\n",
      ", sum(case when sales_mm = 202002 then fmcg_ltsnack else 0 end) as fmcg_ltsnack_2002\n",
      ", sum(case when sales_mm = 202003 then fmcg_ltsnack else 0 end) as fmcg_ltsnack_2003\n",
      ", sum(case when sales_mm = 202004 then fmcg_ltsnack else 0 end) as fmcg_ltsnack_2004\n",
      ", sum(case when sales_mm = 202005 then fmcg_ltsnack else 0 end) as fmcg_ltsnack_2005\n",
      ", sum(case when sales_mm = 202006 then fmcg_ltsnack else 0 end) as fmcg_ltsnack_2006\n",
      ", sum(case when sales_mm = 202007 then fmcg_ltsnack else 0 end) as fmcg_ltsnack_2007\n",
      ", sum(case when sales_mm = 202008 then fmcg_ltsnack else 0 end) as fmcg_ltsnack_2008\n",
      ", sum(case when sales_mm = 202009 then fmcg_ltsnack else 0 end) as fmcg_ltsnack_2009\n",
      ", sum(case when sales_mm = 202010 then fmcg_ltsnack else 0 end) as fmcg_ltsnack_2010\n",
      ", sum(case when sales_mm = 202011 then fmcg_ltsnack else 0 end) as fmcg_ltsnack_2011\n",
      ", sum(case when sales_mm = 202012 then fmcg_ltsnack else 0 end) as fmcg_ltsnack_2012\n",
      ", sum(case when sales_mm = 202101 then fmcg_ltsnack else 0 end) as fmcg_ltsnack_2101\n",
      ", sum(case when sales_mm = 202102 then fmcg_ltsnack else 0 end) as fmcg_ltsnack_2102\n",
      ", sum(case when sales_mm = 202103 then fmcg_ltsnack else 0 end) as fmcg_ltsnack_2103\n",
      ", sum(case when sales_mm = 202104 then fmcg_ltsnack else 0 end) as fmcg_ltsnack_2104\n",
      ", sum(case when sales_mm = 202105 then fmcg_ltsnack else 0 end) as fmcg_ltsnack_2105\n",
      ", sum(case when sales_mm = 202106 then fmcg_ltsnack else 0 end) as fmcg_ltsnack_2106\n",
      ", sum(case when sales_mm = 202107 then fmcg_ltsnack else 0 end) as fmcg_ltsnack_2107\n",
      ", sum(case when sales_mm = 202108 then fmcg_ltsnack else 0 end) as fmcg_ltsnack_2108\n",
      ", sum(case when sales_mm = 202109 then fmcg_ltsnack else 0 end) as fmcg_ltsnack_2109\n",
      ", sum(case when sales_mm = 202110 then fmcg_ltsnack else 0 end) as fmcg_ltsnack_2110\n",
      ", sum(case when sales_mm = 201901 then fmcg_amt else 0 end) as fmcg_amt_1901\n",
      ", sum(case when sales_mm = 201902 then fmcg_amt else 0 end) as fmcg_amt_1902\n",
      ", sum(case when sales_mm = 201903 then fmcg_amt else 0 end) as fmcg_amt_1903\n",
      ", sum(case when sales_mm = 201904 then fmcg_amt else 0 end) as fmcg_amt_1904\n",
      ", sum(case when sales_mm = 201905 then fmcg_amt else 0 end) as fmcg_amt_1905\n",
      ", sum(case when sales_mm = 201906 then fmcg_amt else 0 end) as fmcg_amt_1906\n",
      ", sum(case when sales_mm = 201907 then fmcg_amt else 0 end) as fmcg_amt_1907\n",
      ", sum(case when sales_mm = 201908 then fmcg_amt else 0 end) as fmcg_amt_1908\n",
      ", sum(case when sales_mm = 201909 then fmcg_amt else 0 end) as fmcg_amt_1909\n",
      ", sum(case when sales_mm = 201910 then fmcg_amt else 0 end) as fmcg_amt_1910\n",
      ", sum(case when sales_mm = 201911 then fmcg_amt else 0 end) as fmcg_amt_1911\n",
      ", sum(case when sales_mm = 201912 then fmcg_amt else 0 end) as fmcg_amt_1912\n",
      ", sum(case when sales_mm = 202001 then fmcg_amt else 0 end) as fmcg_amt_2001\n",
      ", sum(case when sales_mm = 202002 then fmcg_amt else 0 end) as fmcg_amt_2002\n",
      ", sum(case when sales_mm = 202003 then fmcg_amt else 0 end) as fmcg_amt_2003\n",
      ", sum(case when sales_mm = 202004 then fmcg_amt else 0 end) as fmcg_amt_2004\n",
      ", sum(case when sales_mm = 202005 then fmcg_amt else 0 end) as fmcg_amt_2005\n",
      ", sum(case when sales_mm = 202006 then fmcg_amt else 0 end) as fmcg_amt_2006\n",
      ", sum(case when sales_mm = 202007 then fmcg_amt else 0 end) as fmcg_amt_2007\n",
      ", sum(case when sales_mm = 202008 then fmcg_amt else 0 end) as fmcg_amt_2008\n",
      ", sum(case when sales_mm = 202009 then fmcg_amt else 0 end) as fmcg_amt_2009\n",
      ", sum(case when sales_mm = 202010 then fmcg_amt else 0 end) as fmcg_amt_2010\n",
      ", sum(case when sales_mm = 202011 then fmcg_amt else 0 end) as fmcg_amt_2011\n",
      ", sum(case when sales_mm = 202012 then fmcg_amt else 0 end) as fmcg_amt_2012\n",
      ", sum(case when sales_mm = 202101 then fmcg_amt else 0 end) as fmcg_amt_2101\n",
      ", sum(case when sales_mm = 202102 then fmcg_amt else 0 end) as fmcg_amt_2102\n",
      ", sum(case when sales_mm = 202103 then fmcg_amt else 0 end) as fmcg_amt_2103\n",
      ", sum(case when sales_mm = 202104 then fmcg_amt else 0 end) as fmcg_amt_2104\n",
      ", sum(case when sales_mm = 202105 then fmcg_amt else 0 end) as fmcg_amt_2105\n",
      ", sum(case when sales_mm = 202106 then fmcg_amt else 0 end) as fmcg_amt_2106\n",
      ", sum(case when sales_mm = 202107 then fmcg_amt else 0 end) as fmcg_amt_2107\n",
      ", sum(case when sales_mm = 202108 then fmcg_amt else 0 end) as fmcg_amt_2108\n",
      ", sum(case when sales_mm = 202109 then fmcg_amt else 0 end) as fmcg_amt_2109\n",
      ", sum(case when sales_mm = 202110 then fmcg_amt else 0 end) as fmcg_amt_2110\n"
     ]
    }
   ],
   "source": [
    "# 모든 열이름 포함해서 전부 한번에 출력하기\n",
    "# 리스트에 열 이름 저장해서, 반복문 이용\n",
    "c = [\"fmcg_amt6\",\"fmcg_ltsnack\",\"fmcg_amt\"]\n",
    "for v in c :\n",
    "    Y = 19\n",
    "    while Y <= 21 :\n",
    "        MM = int(f\"20{Y}01\")\n",
    "        while MM <= int(f\"20{Y}12\") :\n",
    "            if v == \"fmcg_amt6\" :\n",
    "                print(f\", sum(case when sales_mm = {MM} then {v} else 0 end) as fmcg_snack_{str(MM)[-4:]}\")\n",
    "            else :    \n",
    "                print(f\", sum(case when sales_mm = {MM} then {v} else 0 end) as {v}_{str(MM)[-4:]}\")\n",
    "            MM += 1\n",
    "            if MM == 202111 :\n",
    "                break\n",
    "        Y += 1\n"
   ]
  },
  {
   "cell_type": "markdown",
   "metadata": {},
   "source": [
    "## 리스트 함수\n",
    "* len : 리스트 길이 반환 (리스트 요소의 수)"
   ]
  },
  {
   "cell_type": "code",
   "execution_count": 9,
   "metadata": {},
   "outputs": [
    {
     "data": {
      "text/plain": [
       "3"
      ]
     },
     "execution_count": 9,
     "metadata": {},
     "output_type": "execute_result"
    }
   ],
   "source": [
    "numbers = [3,4,5]\n",
    "len(numbers)"
   ]
  },
  {
   "cell_type": "markdown",
   "metadata": {},
   "source": [
    "* append: 리스트에 요소 추가"
   ]
  },
  {
   "cell_type": "code",
   "execution_count": 10,
   "metadata": {},
   "outputs": [
    {
     "data": {
      "text/plain": [
       "[3, 4, 5, 6]"
      ]
     },
     "execution_count": 10,
     "metadata": {},
     "output_type": "execute_result"
    }
   ],
   "source": [
    "numbers.append(6)\n",
    "numbers"
   ]
  },
  {
   "cell_type": "code",
   "execution_count": 11,
   "metadata": {},
   "outputs": [
    {
     "data": {
      "text/plain": [
       "[3, 4, 5, 6, 8]"
      ]
     },
     "execution_count": 11,
     "metadata": {},
     "output_type": "execute_result"
    }
   ],
   "source": [
    "numbers.append(8)\n",
    "numbers"
   ]
  },
  {
   "cell_type": "code",
   "execution_count": 12,
   "metadata": {},
   "outputs": [
    {
     "data": {
      "text/plain": [
       "[3, 4, 5, 6, 8, 10]"
      ]
     },
     "execution_count": 12,
     "metadata": {},
     "output_type": "execute_result"
    }
   ],
   "source": [
    "# 리스트 가장 오른쪽(마지막)에 요소를 추가\n",
    "numbers.append(10)\n",
    "numbers"
   ]
  },
  {
   "cell_type": "markdown",
   "metadata": {},
   "source": [
    "* del: 리스트 요소 삭제"
   ]
  },
  {
   "cell_type": "code",
   "execution_count": 13,
   "metadata": {},
   "outputs": [
    {
     "data": {
      "text/plain": [
       "[4, 5, 6, 8, 10]"
      ]
     },
     "execution_count": 13,
     "metadata": {},
     "output_type": "execute_result"
    }
   ],
   "source": [
    "del numbers[0]\n",
    "numbers"
   ]
  },
  {
   "cell_type": "markdown",
   "metadata": {},
   "source": [
    "* insert: 원하는 위치에 리스트 요소 삽입 list.insert(위치,요소)"
   ]
  },
  {
   "cell_type": "code",
   "execution_count": 14,
   "metadata": {},
   "outputs": [
    {
     "data": {
      "text/plain": [
       "[4, 5, 6, 7, 8, 10]"
      ]
     },
     "execution_count": 14,
     "metadata": {},
     "output_type": "execute_result"
    }
   ],
   "source": [
    "numbers.insert(3,7)\n",
    "numbers"
   ]
  },
  {
   "cell_type": "code",
   "execution_count": 18,
   "metadata": {},
   "outputs": [
    {
     "data": {
      "text/plain": [
       "100"
      ]
     },
     "execution_count": 18,
     "metadata": {},
     "output_type": "execute_result"
    }
   ],
   "source": [
    "# 지정 위치 '이전에' 요소를 추가한다. \n",
    "a = [1,10,100]\n",
    "a[-1]"
   ]
  },
  {
   "cell_type": "code",
   "execution_count": 19,
   "metadata": {},
   "outputs": [
    {
     "data": {
      "text/plain": [
       "[1, 10, 50, 100]"
      ]
     },
     "execution_count": 19,
     "metadata": {},
     "output_type": "execute_result"
    }
   ],
   "source": [
    "a.insert(-1,50) #-1 이전 위치. 즉 -2의 위치에 삽입한다. \n",
    "a"
   ]
  },
  {
   "cell_type": "markdown",
   "metadata": {},
   "source": [
    "* extend: 리스트에 여러요소 한번에 추가하기 (리스트 형태로 추가해야함)"
   ]
  },
  {
   "cell_type": "code",
   "execution_count": 16,
   "metadata": {},
   "outputs": [],
   "source": [
    "numbers.extend([11,12,13])"
   ]
  },
  {
   "cell_type": "code",
   "execution_count": 17,
   "metadata": {},
   "outputs": [
    {
     "data": {
      "text/plain": [
       "[4, 5, 6, 7, 8, 10, 11, 12, 13]"
      ]
     },
     "execution_count": 17,
     "metadata": {},
     "output_type": "execute_result"
    }
   ],
   "source": [
    "numbers"
   ]
  },
  {
   "cell_type": "markdown",
   "metadata": {},
   "source": [
    "## 리스트 정렬"
   ]
  },
  {
   "cell_type": "code",
   "execution_count": 29,
   "metadata": {},
   "outputs": [],
   "source": [
    "numbers = [19, 13, 2, 5, 3, 11, 7, 17]"
   ]
  },
  {
   "cell_type": "markdown",
   "metadata": {},
   "source": [
    "* sorted: 오름차순으로 정렬된 새로운 리스트를 반환(기존 리스트에 자동 저장하지 않음)"
   ]
  },
  {
   "cell_type": "code",
   "execution_count": 23,
   "metadata": {},
   "outputs": [
    {
     "data": {
      "text/plain": [
       "[2, 3, 5, 7, 11, 13, 17, 19]"
      ]
     },
     "execution_count": 23,
     "metadata": {},
     "output_type": "execute_result"
    }
   ],
   "source": [
    "sorted(numbers)"
   ]
  },
  {
   "cell_type": "code",
   "execution_count": 25,
   "metadata": {},
   "outputs": [
    {
     "name": "stdout",
     "output_type": "stream",
     "text": [
      "[19, 13, 2, 5, 3, 11, 7, 17]\n"
     ]
    }
   ],
   "source": [
    "print(numbers) # 기존 리스트는 그대로 있다. "
   ]
  },
  {
   "cell_type": "code",
   "execution_count": 26,
   "metadata": {},
   "outputs": [
    {
     "data": {
      "text/plain": [
       "[19, 17, 13, 11, 7, 5, 3, 2]"
      ]
     },
     "execution_count": 26,
     "metadata": {},
     "output_type": "execute_result"
    }
   ],
   "source": [
    "# 내림차순 정렬\n",
    "sorted(numbers, reverse = True)"
   ]
  },
  {
   "cell_type": "markdown",
   "metadata": {},
   "source": [
    "* sort : 아무것도 리턴하지 않고, 기존 리스트를 정렬 및 변환시킴"
   ]
  },
  {
   "cell_type": "code",
   "execution_count": 30,
   "metadata": {},
   "outputs": [
    {
     "name": "stdout",
     "output_type": "stream",
     "text": [
      "None\n"
     ]
    }
   ],
   "source": [
    "print(numbers.sort()) #순서가 정렬될 뿐, 반환하는 것은 없다"
   ]
  },
  {
   "cell_type": "code",
   "execution_count": 31,
   "metadata": {},
   "outputs": [
    {
     "name": "stdout",
     "output_type": "stream",
     "text": [
      "[2, 3, 5, 7, 11, 13, 17, 19]\n"
     ]
    }
   ],
   "source": [
    "print(numbers) #리스트를 프린트해야함. 정렬되어 반환됨"
   ]
  },
  {
   "cell_type": "code",
   "execution_count": 32,
   "metadata": {},
   "outputs": [
    {
     "name": "stdout",
     "output_type": "stream",
     "text": [
      "[19, 17, 13, 11, 7, 5, 3, 2]\n"
     ]
    }
   ],
   "source": [
    "#내림차순\n",
    "numbers.sort(reverse = True)\n",
    "print(numbers)"
   ]
  },
  {
   "cell_type": "markdown",
   "metadata": {},
   "source": [
    "## 리스트 인덱싱 연습"
   ]
  },
  {
   "cell_type": "code",
   "execution_count": 33,
   "metadata": {},
   "outputs": [],
   "source": [
    "greetings = [\"안녕\", \"니하오\", \"곤니찌와\", \"올라\", \"싸와디캅\", \"헬로\", \"봉주르\"]"
   ]
  },
  {
   "cell_type": "markdown",
   "metadata": {},
   "source": [
    "greetings 리스트의 원소를 모두 출력하는 프로그램을 작성해 보세요. while문과 리스트의 개념을 활용하시면 됩니다.\n",
    "\n",
    "출력하면 아래와 같은 결과물이 나와야 합니다.\n",
    ">```\n",
    "안녕\n",
    "니하오\n",
    "곤니찌와\n",
    "올라\n",
    "싸와디캅\n",
    "헬로\n",
    "봉주르\n",
    "```"
   ]
  },
  {
   "cell_type": "code",
   "execution_count": 40,
   "metadata": {},
   "outputs": [
    {
     "name": "stdout",
     "output_type": "stream",
     "text": [
      "안녕\n",
      "니하오\n",
      "곤니찌와\n",
      "올라\n",
      "싸와디캅\n",
      "헬로\n",
      "봉주르\n"
     ]
    }
   ],
   "source": [
    "# while 문\n",
    "\n",
    "i = 0\n",
    "while i < len(greetings) :\n",
    "    print(greetings[i])\n",
    "    i += 1"
   ]
  },
  {
   "cell_type": "code",
   "execution_count": 39,
   "metadata": {},
   "outputs": [
    {
     "name": "stdout",
     "output_type": "stream",
     "text": [
      "안녕\n",
      "니하오\n",
      "곤니찌와\n",
      "올라\n",
      "싸와디캅\n",
      "헬로\n",
      "봉주르\n"
     ]
    }
   ],
   "source": [
    "# for 문\n",
    "for i in greetings:\n",
    "    print(i)"
   ]
  },
  {
   "cell_type": "markdown",
   "metadata": {},
   "source": [
    "## 온도 단위 바꾸기\n",
    "화씨 온도(°F)를 섭씨 온도(°C)로 바꾸어주는 프로그램을 만들려고 합니다.\n",
    "\n",
    "섭씨와 화씨의 관계식은 다음과 같습니다:\n",
    "\n",
    "$°C = \\frac{(°F - 32) * 5}{9}$\n",
    " \n",
    "\n",
    "화씨 온도를 섭씨 온도로 변환해 주는 함수 fahrenheit_to_celsius를 써 보세요. 이 함수를 파라미터로 화씨 온도 fahrenheit를 받고, 변환된 섭씨 온도를 리턴합니다.\n",
    "\n",
    "위 프로그램을 실행하면 아래처럼 출력되어야 합니다.\n",
    ">```\n",
    "화씨 온도 리스트: [40, 15, 32, 64, -4, 11]\n",
    "섭씨 온도 리스트: [4.4, -9.4, 0.0, 17.8, -20.0, -11.7]\n",
    "```\n"
   ]
  },
  {
   "cell_type": "code",
   "execution_count": 67,
   "metadata": {},
   "outputs": [],
   "source": [
    "def fahrenheit_to_celsius(f):\n",
    "    return((f-32)*5/9)\n",
    "\n",
    "F = [40,15,32,64, -4, 11]"
   ]
  },
  {
   "cell_type": "code",
   "execution_count": 68,
   "metadata": {},
   "outputs": [
    {
     "name": "stdout",
     "output_type": "stream",
     "text": [
      "화씨 온도 리스트: [40, 15, 32, 64, -4, 11]\n",
      "섭씨 온도 리스트: [4.4, -9.4, 0.0, 17.8, -20.0, -11.7]\n"
     ]
    }
   ],
   "source": [
    "# List.append 사용\n",
    "C = []\n",
    "\n",
    "for f in F:\n",
    "    C.append(round(fahrenheit_to_celsius(f),1))\n",
    "    \n",
    "print(f\"화씨 온도 리스트: {F}\", end='\\n')\n",
    "print(f\"섭씨 온도 리스트: {C}\")\n"
   ]
  },
  {
   "cell_type": "code",
   "execution_count": 70,
   "metadata": {},
   "outputs": [
    {
     "name": "stdout",
     "output_type": "stream",
     "text": [
      "섭씨 온도 리스트: [4.4, -9.4, 0.0, 17.8, -20.0, -11.7]\n"
     ]
    }
   ],
   "source": [
    "# 인덱싱 사용\n",
    "i = 0\n",
    "while i < len(F):\n",
    "    F[i] = round(fahrenheit_to_celsius(F[i]),1)\n",
    "    i += 1\n",
    "\n",
    "print(f\"섭씨 온도 리스트: {F}\")"
   ]
  },
  {
   "cell_type": "markdown",
   "metadata": {},
   "source": [
    "## 환전 서비스\n",
    "제가 구매하고 싶은 물건들의 가격을 리스트에 정리해 놨습니다.\n",
    "\n",
    "> prices = [34000, 13000, 5000, 21000, 1000, 2000, 8000, 3000]\n",
    "\n",
    "가격의 단위는 모두 원화(￦)인데요. 이 물건들의 가격을 미국 달러($)로 하면 얼마일지, 그리고 일본 엔화(￥)로 하면 얼마일지 확인해 보려고 합니다.\n",
    "\n",
    "해야 할 일\n",
    "우리가 해야 할 일은 크게 두 가지입니다.\n",
    "\n",
    "함수 작성\n",
    "반복문을 통해 리스트 요소들 변환\n",
    "1. 함수 작성\n",
    "먼저 한국 원화를 미국 달러로 변환해 주는 krw_to_usd 함수, 그리고 미국 달러를 일본 엔화로 변환해 주는 usd_to_jpy 함수를 써야 하는데요. krw_to_usd 함수는 파라미터로 원화 krw을 받아서 변환된 미국 달러 액수를 리턴해 줍니다. 마찬가지로 usd_to_jpy 함수는 파라미터로 달러 usd를 받아서 변환된 일본 엔화 액수를 리턴해 주는 거죠.\n",
    "\n",
    "참고로 환율은 1달러에 1,000원, 그리고 1,000엔에 8달러라고 가정합니다.\n",
    "\n",
    "2. 반복문을 통해 리스트 요소들 변환\n",
    "반복문을 사용해서 리스트의 요소들을 각각 다른 화폐로 변환해야 하는데요. 그 과정에서 krw_to_usd 함수와 usd_to_jpy 함수를 활용하면 되겠죠?\n",
    "\n",
    "위 코드를 완성하고 실행하면 아래와 같이 출력됩니다.\n",
    "\n",
    "> ```\n",
    "한국 화폐: [34000, 13000, 5000, 21000, 1000, 2000, 8000, 3000]\n",
    "미국 화폐: [34.0, 13.0, 5.0, 21.0, 1.0, 2.0, 8.0, 3.0]\n",
    "일본 화폐: [4250.0, 1625.0, 625.0, 2625.0, 125.0, 250.0, 1000.0, 375.0]\n",
    "```"
   ]
  },
  {
   "cell_type": "code",
   "execution_count": 78,
   "metadata": {},
   "outputs": [],
   "source": [
    "# 원화(￦)에서 달러($)로 변환하는 함수\n",
    "def krw_to_usd(krw):\n",
    "    return(krw/1000)"
   ]
  },
  {
   "cell_type": "code",
   "execution_count": 79,
   "metadata": {},
   "outputs": [],
   "source": [
    "# 달러($)에서 엔화(￥)로 변환하는 함수\n",
    "def usd_to_jpy(usd):\n",
    "    return(usd*1000/8) # or usd/8*1000"
   ]
  },
  {
   "cell_type": "code",
   "execution_count": 83,
   "metadata": {},
   "outputs": [
    {
     "name": "stdout",
     "output_type": "stream",
     "text": [
      "한국 화폐: [34000, 13000, 5000, 21000, 1000, 2000, 8000, 3000]\n"
     ]
    }
   ],
   "source": [
    "# 원화(￦)으로 각각 얼마인가요?\n",
    "prices = [34000, 13000, 5000, 21000, 1000, 2000, 8000, 3000]\n",
    "print(\"한국 화폐: \" + str(prices))"
   ]
  },
  {
   "cell_type": "code",
   "execution_count": 84,
   "metadata": {},
   "outputs": [],
   "source": [
    "# prices를 원화(￦)에서 달러($)로 변환하기\n",
    "i = 0\n",
    "while i < len(prices):\n",
    "    prices[i] = krw_to_usd(prices[i])\n",
    "    i += 1"
   ]
  },
  {
   "cell_type": "code",
   "execution_count": 85,
   "metadata": {},
   "outputs": [
    {
     "name": "stdout",
     "output_type": "stream",
     "text": [
      "미국 화폐: [34.0, 13.0, 5.0, 21.0, 1.0, 2.0, 8.0, 3.0]\n"
     ]
    }
   ],
   "source": [
    "# 달러($)로 각각 얼마인가요?\n",
    "print(\"미국 화폐: \" + str(prices))"
   ]
  },
  {
   "cell_type": "code",
   "execution_count": 86,
   "metadata": {},
   "outputs": [],
   "source": [
    "# prices를 달러($)에서 엔화(￥)으로 변환하기\n",
    "i = 0\n",
    "while i < len(prices):\n",
    "    prices[i] = usd_to_jpy(prices[i])\n",
    "    i += 1"
   ]
  },
  {
   "cell_type": "code",
   "execution_count": 87,
   "metadata": {},
   "outputs": [
    {
     "name": "stdout",
     "output_type": "stream",
     "text": [
      "일본 화폐: [4250.0, 1625.0, 625.0, 2625.0, 125.0, 250.0, 1000.0, 375.0]\n"
     ]
    }
   ],
   "source": [
    "# 엔화(￥)으로 각각 얼마인가요?\n",
    "print(\"일본 화폐: \" + str(prices))"
   ]
  },
  {
   "cell_type": "markdown",
   "metadata": {},
   "source": [
    "## 리스트 함수 활용하기\n",
    "리스트 함수를 활용하여 아래의 지시 사항을 따르세요.\n",
    "\n",
    "1. numbers라는 빈 리스트를 만들고 리스트를 출력한다.\n",
    "2. append를 이용해서 numbers에 1, 7, 3, 6, 5, 2, 13, 14를 순서대로 추가한다. 그 후 리스트를 출력한다.\n",
    "3. numbers 리스트의 원소들 중 홀수는 모두 제거한다. 그 후 다시 리스트를 출력한다.\n",
    "4. numbers 리스트의 인덱스 0 자리에 20이라는 수를 삽입한 후 출력한다.\n",
    "5. numbers 리스트를 정렬한 후 출력한다."
   ]
  },
  {
   "cell_type": "code",
   "execution_count": 106,
   "metadata": {},
   "outputs": [
    {
     "name": "stdout",
     "output_type": "stream",
     "text": [
      "[]\n"
     ]
    }
   ],
   "source": [
    "# 빈 리스트 만들기\n",
    "numbers = []\n",
    "print(numbers)"
   ]
  },
  {
   "cell_type": "code",
   "execution_count": 107,
   "metadata": {},
   "outputs": [
    {
     "name": "stdout",
     "output_type": "stream",
     "text": [
      "[1, 7, 3, 6, 5, 2, 13, 14]\n"
     ]
    }
   ],
   "source": [
    "# numbers에 값들 추가\n",
    "numbers.append(1)\n",
    "numbers.append(7)\n",
    "numbers.append(3)\n",
    "numbers.append(6)\n",
    "numbers.append(5)\n",
    "numbers.append(2)\n",
    "numbers.append(13)\n",
    "numbers.append(14)\n",
    "print(numbers)"
   ]
  },
  {
   "cell_type": "code",
   "execution_count": 105,
   "metadata": {},
   "outputs": [
    {
     "name": "stdout",
     "output_type": "stream",
     "text": [
      "[6, 2, 14]\n"
     ]
    }
   ],
   "source": [
    "# numbers에서 홀수 제거\n",
    "# continue 사용\n",
    "i = 0\n",
    "while i < len(numbers) :\n",
    "    if numbers[i] % 2 != 0 :\n",
    "        del(numbers[i])\n",
    "        continue\n",
    "    i += 1\n",
    "print(numbers)"
   ]
  },
  {
   "cell_type": "code",
   "execution_count": 108,
   "metadata": {},
   "outputs": [
    {
     "name": "stdout",
     "output_type": "stream",
     "text": [
      "[6, 2, 14]\n"
     ]
    }
   ],
   "source": [
    "# esle 사용\n",
    "i = 0\n",
    "while i < len(numbers) :\n",
    "    if numbers[i] % 2 != 0 :\n",
    "        del(numbers[i])\n",
    "    else:\n",
    "        i += 1\n",
    "print(numbers)"
   ]
  },
  {
   "cell_type": "code",
   "execution_count": 109,
   "metadata": {},
   "outputs": [
    {
     "name": "stdout",
     "output_type": "stream",
     "text": [
      "[20, 6, 2, 14]\n"
     ]
    }
   ],
   "source": [
    "# numbers의 인덱스 0 자리에 20이라는 값 삽입\n",
    "numbers.insert(0,20)\n",
    "print(numbers)"
   ]
  },
  {
   "cell_type": "code",
   "execution_count": 110,
   "metadata": {},
   "outputs": [
    {
     "name": "stdout",
     "output_type": "stream",
     "text": [
      "[2, 6, 14, 20]\n"
     ]
    }
   ],
   "source": [
    "# numbers를 정렬해서 출력\n",
    "numbers.sort()\n",
    "print(numbers)"
   ]
  },
  {
   "cell_type": "code",
   "execution_count": null,
   "metadata": {},
   "outputs": [],
   "source": []
  }
 ],
 "metadata": {
  "kernelspec": {
   "display_name": "Python 3",
   "language": "python",
   "name": "python3"
  },
  "language_info": {
   "codemirror_mode": {
    "name": "ipython",
    "version": 3
   },
   "file_extension": ".py",
   "mimetype": "text/x-python",
   "name": "python",
   "nbconvert_exporter": "python",
   "pygments_lexer": "ipython3",
   "version": "3.8.5"
  }
 },
 "nbformat": 4,
 "nbformat_minor": 4
}
