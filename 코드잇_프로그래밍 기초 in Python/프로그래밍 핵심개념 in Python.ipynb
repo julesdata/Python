{
 "cells": [
  {
   "cell_type": "markdown",
   "metadata": {},
   "source": [
    "# 추상화\n",
    "## 함수 만들기 실습"
   ]
  },
  {
   "cell_type": "markdown",
   "metadata": {},
   "source": [
    "### 짝수/ 홀수 판단\n",
    "\n",
    "어떤 수가 짝수인지 홀수인지 판단해 주는 함수 is_evenly_divisible를 쓰세요.\n",
    "\n",
    "is_evenly_divisible는 number(수)를 파라미터로 받습니다. 짝수인 경우, 즉 number가 2로 나누어 떨어질 경우에는 True를 리턴해 줍니다. 홀수인 경우, 즉 number가 2로 나누어 떨어지지 않을 경우에는 False를 리턴해 줍니다.\n",
    "\n",
    "함수 안에는 print문이 아닌, return문을 사용해야 합니다. 그리고 참고로 불린 개념을 잘 사용하면, 함수 단 한 줄로 작성할 수 있습니다!"
   ]
  },
  {
   "cell_type": "code",
   "execution_count": 3,
   "metadata": {},
   "outputs": [],
   "source": [
    "def is_evenly_divisible(number):\n",
    "    return(number % 2 == 0)"
   ]
  },
  {
   "cell_type": "code",
   "execution_count": 4,
   "metadata": {},
   "outputs": [
    {
     "name": "stdout",
     "output_type": "stream",
     "text": [
      "False\n",
      "False\n",
      "True\n",
      "True\n",
      "False\n"
     ]
    }
   ],
   "source": [
    "# 테스트\n",
    "print(is_evenly_divisible(3))\n",
    "print(is_evenly_divisible(7))\n",
    "print(is_evenly_divisible(8))\n",
    "print(is_evenly_divisible(218))\n",
    "print(is_evenly_divisible(317))"
   ]
  },
  {
   "cell_type": "code",
   "execution_count": 5,
   "metadata": {},
   "outputs": [],
   "source": [
    "# 코드 풀어서 작성 시 \n",
    "def compare(number):\n",
    "    if number > 10:\n",
    "        return True\n",
    "    else:\n",
    "        return False"
   ]
  },
  {
   "cell_type": "code",
   "execution_count": 6,
   "metadata": {},
   "outputs": [],
   "source": [
    "# else 제외하여 줄이기\n",
    "def compare(number):\n",
    "    if number > 10:\n",
    "        return True\n",
    "    return False"
   ]
  },
  {
   "cell_type": "code",
   "execution_count": 7,
   "metadata": {},
   "outputs": [],
   "source": [
    "# 불긴 개념 이용하여 코드 최소화\n",
    "def compare(number):\n",
    "    return number > 10"
   ]
  },
  {
   "cell_type": "code",
   "execution_count": 9,
   "metadata": {},
   "outputs": [
    {
     "data": {
      "text/plain": [
       "(True, False)"
      ]
     },
     "execution_count": 9,
     "metadata": {},
     "output_type": "execute_result"
    }
   ],
   "source": [
    "# 불린: True / False 반환\n",
    "X = 2\n",
    "10/X == 5, 10/X == 6"
   ]
  },
  {
   "cell_type": "markdown",
   "metadata": {},
   "source": [
    "### 거스름돈 계산기\n",
    "\n",
    "현명하게 거스름돈을 계산해 주는 프로그램을 만들려고 합니다. 예를 들어 33,000원짜리 물건을 사기 위해 100,000원을 냈다면,\n",
    "\n",
    "* 50,000원 1장\n",
    "* 10,000원 1장\n",
    "* 5,000원 1장\n",
    "* 1,000원 2장\n",
    "이런 식으로 '가장 적은 수'의 지폐를 거슬러 주는 것입니다. 방금 같은 경우에는 총 5장을 거슬러 준 거죠.\n",
    "\n",
    "우리는 calculate_change라는 함수를 작성하려고 하는데요. 이 함수는 지불한 금액을 나타내는 payment와 물건의 가격을 나타내는 cost를 파라미터로 받습니다.\n",
    "\n",
    "아래의 코드에 이어서 깔끔하게 프로그램을 작성해 보세요."
   ]
  },
  {
   "cell_type": "code",
   "execution_count": 10,
   "metadata": {},
   "outputs": [],
   "source": [
    "def calculate_change(payment, cost):\n",
    "\n",
    "    change = payment - cost  #거스름돈 총액\n",
    "    fifty_count = change // 50000  #50000원권 장 수 \n",
    "    ten_count = (change % 50000) // 10000  #1000원권 장 수\n",
    "    five_count = (change % 10000) // 5000  #5000원권 장 수. change % 50000 %10000 == change % 10000 이다. 50000이 10000의 배수 이기 때문.\n",
    "    one_count = (change % 5000) // 1000 \n",
    "    \n",
    "    print('50000원 지폐: {}장'.format(fifty_count))\n",
    "    print('10000원 지폐: {}장'.format(ten_count))\n",
    "    print('5000원 지폐: {}장'.format(five_count))\n",
    "    print('1000원 지폐: {}장'.format(one_count))"
   ]
  },
  {
   "cell_type": "code",
   "execution_count": 12,
   "metadata": {},
   "outputs": [
    {
     "name": "stdout",
     "output_type": "stream",
     "text": [
      "50000원 지폐: 1장\n",
      "10000원 지폐: 1장\n",
      "5000원 지폐: 1장\n",
      "1000원 지폐: 2장\n",
      "\n",
      "50000원 지폐: 2장\n",
      "10000원 지폐: 2장\n",
      "5000원 지폐: 0장\n",
      "1000원 지폐: 2장\n"
     ]
    }
   ],
   "source": [
    "calculate_change(100000, 33000)\n",
    "print()\n",
    "calculate_change(500000, 378000)"
   ]
  },
  {
   "cell_type": "code",
   "execution_count": 15,
   "metadata": {},
   "outputs": [
    {
     "data": {
      "text/plain": [
       "True"
      ]
     },
     "execution_count": 15,
     "metadata": {},
     "output_type": "execute_result"
    }
   ],
   "source": [
    "11000 % 50000 %10000 == 11000 % 10000"
   ]
  },
  {
   "cell_type": "code",
   "execution_count": 17,
   "metadata": {},
   "outputs": [
    {
     "data": {
      "text/plain": [
       "(1000, 1000)"
      ]
     },
     "execution_count": 17,
     "metadata": {},
     "output_type": "execute_result"
    }
   ],
   "source": [
    "11000 % 50000 %10000,11000 % 10000"
   ]
  },
  {
   "cell_type": "markdown",
   "metadata": {},
   "source": [
    "# 제어문\n",
    "## while 반복문\n",
    "```python\n",
    "while 조건 부분:  \n",
    "    수행 부분\n",
    "```\n",
    "조건부분에 True가 나오면 수행부분 실행. FALSE이면 while문 종료"
   ]
  },
  {
   "cell_type": "code",
   "execution_count": 2,
   "metadata": {},
   "outputs": [
    {
     "name": "stdout",
     "output_type": "stream",
     "text": [
      "나는 잘생겼다!\n",
      "나는 잘생겼다!\n",
      "나는 잘생겼다!\n"
     ]
    }
   ],
   "source": [
    "i = 1\n",
    "while i <= 3 :\n",
    "    print(\"나는 잘생겼다!\")\n",
    "    i += 1"
   ]
  },
  {
   "cell_type": "code",
   "execution_count": 3,
   "metadata": {},
   "outputs": [
    {
     "name": "stdout",
     "output_type": "stream",
     "text": [
      "2\n",
      "4\n",
      "6\n",
      "8\n",
      "10\n",
      "12\n",
      "14\n",
      "16\n",
      "18\n",
      "20\n",
      "22\n",
      "24\n",
      "26\n",
      "28\n",
      "30\n",
      "32\n",
      "34\n",
      "36\n",
      "38\n",
      "40\n",
      "42\n",
      "44\n",
      "46\n",
      "48\n",
      "50\n",
      "52\n",
      "54\n",
      "56\n",
      "58\n",
      "60\n",
      "62\n",
      "64\n",
      "66\n",
      "68\n",
      "70\n",
      "72\n",
      "74\n",
      "76\n",
      "78\n",
      "80\n",
      "82\n",
      "84\n",
      "86\n",
      "88\n",
      "90\n",
      "92\n",
      "94\n",
      "96\n",
      "98\n",
      "100\n"
     ]
    }
   ],
   "source": [
    "# while 반복문을 사용하여 1 이상 100 이하의 짝수 모두 출력하기\n",
    "i = 1\n",
    "while i <= 50 :\n",
    "    print(2 * i)\n",
    "    i +=1"
   ]
  },
  {
   "cell_type": "code",
   "execution_count": 6,
   "metadata": {},
   "outputs": [
    {
     "name": "stdout",
     "output_type": "stream",
     "text": [
      "115\n"
     ]
    }
   ],
   "source": [
    "# while문을 사용하여, 100 이상의 자연수 중 가장 작은 23의 배수 출력하기\n",
    "i = 100\n",
    "while i % 23 != 0 :\n",
    "    i += 1\n",
    "    if i % 23 == 0:\n",
    "        print(i)"
   ]
  },
  {
   "cell_type": "markdown",
   "metadata": {},
   "source": [
    "**개선할 점**  \n",
    "while문 안에 꼭 print를 넣지 않아도 된다. 조건이 거짓이 될 때 까지 실행을 계속 할 것이므로, i는 23의 배수가 되는 순간에 while 문이 종료되어 더이상 증가하지 않을 것이다. 따라서 그 상태의 i를 while문 바깥에서 출력하면 된다. "
   ]
  },
  {
   "cell_type": "code",
   "execution_count": 7,
   "metadata": {},
   "outputs": [
    {
     "name": "stdout",
     "output_type": "stream",
     "text": [
      "115\n"
     ]
    }
   ],
   "source": [
    "i = 100\n",
    "while i % 23 != 0 :\n",
    "    i += 1\n",
    "    \n",
    "print(i) "
   ]
  },
  {
   "cell_type": "markdown",
   "metadata": {},
   "source": [
    "## if문\n",
    "```python\n",
    "if 조건 부분:  \n",
    "    수행 부분\n",
    "else :\n",
    "    (if 조건 외의 모든 부분에 대해)\n",
    "    수행 부분\n",
    "```\n",
    "IF 조건문에 True할 경우 수행부분 실행. else가 있으면 나머지 부분에 대해 별도 수행"
   ]
  },
  {
   "cell_type": "code",
   "execution_count": 8,
   "metadata": {},
   "outputs": [
    {
     "name": "stdout",
     "output_type": "stream",
     "text": [
      "자켓을 입는다\n"
     ]
    }
   ],
   "source": [
    "temperature = 8\n",
    "if temperature <= 10: #조건부분에는 불린연산이 가능해야 한다.\n",
    "    print(\"자켓을 입는다\")"
   ]
  },
  {
   "cell_type": "code",
   "execution_count": 9,
   "metadata": {},
   "outputs": [],
   "source": [
    "temperature = 16\n",
    "if temperature <= 10: \n",
    "    print(\"자켓을 입는다\")"
   ]
  },
  {
   "cell_type": "markdown",
   "metadata": {},
   "source": [
    "온도가 10도 초과이기 때문에 수행되는 문장이 없다. "
   ]
  },
  {
   "cell_type": "code",
   "execution_count": 11,
   "metadata": {},
   "outputs": [
    {
     "name": "stdout",
     "output_type": "stream",
     "text": [
      "자켓을 입지 않는다\n"
     ]
    }
   ],
   "source": [
    "temperature = 16\n",
    "if temperature <= 10: \n",
    "    print(\"자켓을 입는다\")\n",
    "else:\n",
    "    print(\"자켓을 입지 않는다\")"
   ]
  },
  {
   "cell_type": "markdown",
   "metadata": {},
   "source": [
    "elif문: 조건을 다양하게 추가할 수 있다. 수행부분은 하나만 실행 되야 한다. "
   ]
  },
  {
   "cell_type": "markdown",
   "metadata": {},
   "source": [
    "학생들에게 최종 성적을 알려 주는 '학점 계산기'를 만들려고 합니다.\n",
    "\n",
    "이 수업에는 50점 만점의 중간고사와 50점 만점의 기말고사가 있는데요. 두 시험의 점수를 합해서 최종 성적을 내는 방식입니다. 규칙은 다음과 같습니다.\n",
    "\n",
    "A: 90점 이상\n",
    "B: 80점 이상 90점 미만\n",
    "C: 70점 이상 80점 미만\n",
    "D: 60점 이상 70점 미만\n",
    "F: 60점 미만\n",
    "    \n",
    "'print_grade' 함수는 파라미터로 중간고사 점수 midterm_score와 기말고사 점수 final_score를 받고, 최종 성적을 출력합니다."
   ]
  },
  {
   "cell_type": "code",
   "execution_count": null,
   "metadata": {},
   "outputs": [],
   "source": []
  }
 ],
 "metadata": {
  "kernelspec": {
   "display_name": "Python 3",
   "language": "python",
   "name": "python3"
  },
  "language_info": {
   "codemirror_mode": {
    "name": "ipython",
    "version": 3
   },
   "file_extension": ".py",
   "mimetype": "text/x-python",
   "name": "python",
   "nbconvert_exporter": "python",
   "pygments_lexer": "ipython3",
   "version": "3.8.5"
  },
  "toc": {
   "base_numbering": 1,
   "nav_menu": {},
   "number_sections": true,
   "sideBar": true,
   "skip_h1_title": false,
   "title_cell": "Table of Contents",
   "title_sidebar": "Contents",
   "toc_cell": false,
   "toc_position": {},
   "toc_section_display": true,
   "toc_window_display": false
  }
 },
 "nbformat": 4,
 "nbformat_minor": 4
}
