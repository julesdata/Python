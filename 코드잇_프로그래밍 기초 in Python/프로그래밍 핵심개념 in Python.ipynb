{
 "cells": [
  {
   "cell_type": "markdown",
   "metadata": {},
   "source": [
    "# 추상화\n",
    "## 함수 만들기 실습"
   ]
  },
  {
   "cell_type": "markdown",
   "metadata": {},
   "source": [
    "### 짝수/ 홀수 판단\n",
    "\n",
    "어떤 수가 짝수인지 홀수인지 판단해 주는 함수 is_evenly_divisible를 쓰세요.\n",
    "\n",
    "is_evenly_divisible는 number(수)를 파라미터로 받습니다. 짝수인 경우, 즉 number가 2로 나누어 떨어질 경우에는 True를 리턴해 줍니다. 홀수인 경우, 즉 number가 2로 나누어 떨어지지 않을 경우에는 False를 리턴해 줍니다.\n",
    "\n",
    "함수 안에는 print문이 아닌, return문을 사용해야 합니다. 그리고 참고로 불린 개념을 잘 사용하면, 함수 단 한 줄로 작성할 수 있습니다!"
   ]
  },
  {
   "cell_type": "code",
   "execution_count": 3,
   "metadata": {},
   "outputs": [],
   "source": [
    "def is_evenly_divisible(number):\n",
    "    return(number % 2 == 0)"
   ]
  },
  {
   "cell_type": "code",
   "execution_count": 4,
   "metadata": {},
   "outputs": [
    {
     "name": "stdout",
     "output_type": "stream",
     "text": [
      "False\n",
      "False\n",
      "True\n",
      "True\n",
      "False\n"
     ]
    }
   ],
   "source": [
    "# 테스트\n",
    "print(is_evenly_divisible(3))\n",
    "print(is_evenly_divisible(7))\n",
    "print(is_evenly_divisible(8))\n",
    "print(is_evenly_divisible(218))\n",
    "print(is_evenly_divisible(317))"
   ]
  },
  {
   "cell_type": "code",
   "execution_count": 5,
   "metadata": {},
   "outputs": [],
   "source": [
    "# 코드 풀어서 작성 시 \n",
    "def compare(number):\n",
    "    if number > 10:\n",
    "        return True\n",
    "    else:\n",
    "        return False"
   ]
  },
  {
   "cell_type": "code",
   "execution_count": 6,
   "metadata": {},
   "outputs": [],
   "source": [
    "# else 제외하여 줄이기\n",
    "def compare(number):\n",
    "    if number > 10:\n",
    "        return True\n",
    "    return False"
   ]
  },
  {
   "cell_type": "code",
   "execution_count": 7,
   "metadata": {},
   "outputs": [],
   "source": [
    "# 불긴 개념 이용하여 코드 최소화\n",
    "def compare(number):\n",
    "    return number > 10"
   ]
  },
  {
   "cell_type": "code",
   "execution_count": 9,
   "metadata": {},
   "outputs": [
    {
     "data": {
      "text/plain": [
       "(True, False)"
      ]
     },
     "execution_count": 9,
     "metadata": {},
     "output_type": "execute_result"
    }
   ],
   "source": [
    "# 불린: True / False 반환\n",
    "X = 2\n",
    "10/X == 5, 10/X == 6"
   ]
  },
  {
   "cell_type": "markdown",
   "metadata": {},
   "source": [
    "### 거스름돈 계산기\n",
    "\n",
    "현명하게 거스름돈을 계산해 주는 프로그램을 만들려고 합니다. 예를 들어 33,000원짜리 물건을 사기 위해 100,000원을 냈다면,\n",
    "\n",
    "* 50,000원 1장\n",
    "* 10,000원 1장\n",
    "* 5,000원 1장\n",
    "* 1,000원 2장\n",
    "이런 식으로 '가장 적은 수'의 지폐를 거슬러 주는 것입니다. 방금 같은 경우에는 총 5장을 거슬러 준 거죠.\n",
    "\n",
    "우리는 calculate_change라는 함수를 작성하려고 하는데요. 이 함수는 지불한 금액을 나타내는 payment와 물건의 가격을 나타내는 cost를 파라미터로 받습니다.\n",
    "\n",
    "아래의 코드에 이어서 깔끔하게 프로그램을 작성해 보세요."
   ]
  },
  {
   "cell_type": "code",
   "execution_count": 10,
   "metadata": {},
   "outputs": [],
   "source": [
    "def calculate_change(payment, cost):\n",
    "\n",
    "    change = payment - cost  #거스름돈 총액\n",
    "    fifty_count = change // 50000  #50000원권 장 수 \n",
    "    ten_count = (change % 50000) // 10000  #1000원권 장 수\n",
    "    five_count = (change % 10000) // 5000  #5000원권 장 수. change % 50000 %10000 == change % 10000 이다. 50000이 10000의 배수 이기 때문.\n",
    "    one_count = (change % 5000) // 1000 \n",
    "    \n",
    "    print('50000원 지폐: {}장'.format(fifty_count))\n",
    "    print('10000원 지폐: {}장'.format(ten_count))\n",
    "    print('5000원 지폐: {}장'.format(five_count))\n",
    "    print('1000원 지폐: {}장'.format(one_count))"
   ]
  },
  {
   "cell_type": "code",
   "execution_count": 12,
   "metadata": {},
   "outputs": [
    {
     "name": "stdout",
     "output_type": "stream",
     "text": [
      "50000원 지폐: 1장\n",
      "10000원 지폐: 1장\n",
      "5000원 지폐: 1장\n",
      "1000원 지폐: 2장\n",
      "\n",
      "50000원 지폐: 2장\n",
      "10000원 지폐: 2장\n",
      "5000원 지폐: 0장\n",
      "1000원 지폐: 2장\n"
     ]
    }
   ],
   "source": [
    "calculate_change(100000, 33000)\n",
    "print()\n",
    "calculate_change(500000, 378000)"
   ]
  },
  {
   "cell_type": "code",
   "execution_count": 15,
   "metadata": {},
   "outputs": [
    {
     "data": {
      "text/plain": [
       "True"
      ]
     },
     "execution_count": 15,
     "metadata": {},
     "output_type": "execute_result"
    }
   ],
   "source": [
    "11000 % 50000 %10000 == 11000 % 10000"
   ]
  },
  {
   "cell_type": "code",
   "execution_count": 17,
   "metadata": {},
   "outputs": [
    {
     "data": {
      "text/plain": [
       "(1000, 1000)"
      ]
     },
     "execution_count": 17,
     "metadata": {},
     "output_type": "execute_result"
    }
   ],
   "source": [
    "11000 % 50000 %10000,11000 % 10000"
   ]
  },
  {
   "cell_type": "markdown",
   "metadata": {},
   "source": [
    "# 제어문\n",
    "## while 반복문\n",
    "```python\n",
    "while 조건 부분:  \n",
    "    수행 부분\n",
    "```\n",
    "조건부분에 True가 나오면 수행부분 실행. FALSE이면 while문 종료"
   ]
  },
  {
   "cell_type": "code",
   "execution_count": 2,
   "metadata": {},
   "outputs": [
    {
     "name": "stdout",
     "output_type": "stream",
     "text": [
      "나는 잘생겼다!\n",
      "나는 잘생겼다!\n",
      "나는 잘생겼다!\n"
     ]
    }
   ],
   "source": [
    "i = 1\n",
    "while i <= 3 :\n",
    "    print(\"나는 잘생겼다!\")\n",
    "    i += 1"
   ]
  },
  {
   "cell_type": "code",
   "execution_count": 3,
   "metadata": {},
   "outputs": [
    {
     "name": "stdout",
     "output_type": "stream",
     "text": [
      "2\n",
      "4\n",
      "6\n",
      "8\n",
      "10\n",
      "12\n",
      "14\n",
      "16\n",
      "18\n",
      "20\n",
      "22\n",
      "24\n",
      "26\n",
      "28\n",
      "30\n",
      "32\n",
      "34\n",
      "36\n",
      "38\n",
      "40\n",
      "42\n",
      "44\n",
      "46\n",
      "48\n",
      "50\n",
      "52\n",
      "54\n",
      "56\n",
      "58\n",
      "60\n",
      "62\n",
      "64\n",
      "66\n",
      "68\n",
      "70\n",
      "72\n",
      "74\n",
      "76\n",
      "78\n",
      "80\n",
      "82\n",
      "84\n",
      "86\n",
      "88\n",
      "90\n",
      "92\n",
      "94\n",
      "96\n",
      "98\n",
      "100\n"
     ]
    }
   ],
   "source": [
    "# while 반복문을 사용하여 1 이상 100 이하의 짝수 모두 출력하기\n",
    "i = 1\n",
    "while i <= 50 :\n",
    "    print(2 * i)\n",
    "    i +=1"
   ]
  },
  {
   "cell_type": "code",
   "execution_count": 6,
   "metadata": {},
   "outputs": [
    {
     "name": "stdout",
     "output_type": "stream",
     "text": [
      "115\n"
     ]
    }
   ],
   "source": [
    "# while문을 사용하여, 100 이상의 자연수 중 가장 작은 23의 배수 출력하기\n",
    "i = 100\n",
    "while i % 23 != 0 :\n",
    "    i += 1\n",
    "    if i % 23 == 0:\n",
    "        print(i)"
   ]
  },
  {
   "cell_type": "markdown",
   "metadata": {},
   "source": [
    "**개선할 점**  \n",
    "while문 안에 꼭 print를 넣지 않아도 된다. 조건이 거짓이 될 때 까지 실행을 계속 할 것이므로, i는 23의 배수가 되는 순간에 while 문이 종료되어 더이상 증가하지 않을 것이다. 따라서 그 상태의 i를 while문 바깥에서 출력하면 된다. "
   ]
  },
  {
   "cell_type": "code",
   "execution_count": 7,
   "metadata": {},
   "outputs": [
    {
     "name": "stdout",
     "output_type": "stream",
     "text": [
      "115\n"
     ]
    }
   ],
   "source": [
    "i = 100\n",
    "while i % 23 != 0 :\n",
    "    i += 1\n",
    "    \n",
    "print(i) "
   ]
  },
  {
   "cell_type": "markdown",
   "metadata": {},
   "source": [
    "## if문\n",
    "```python\n",
    "if 조건 부분:  \n",
    "    수행 부분\n",
    "else :\n",
    "    (if 조건 외의 모든 부분에 대해)\n",
    "    수행 부분\n",
    "```\n",
    "IF 조건문에 True할 경우 수행부분 실행. else가 있으면 나머지 부분에 대해 별도 수행"
   ]
  },
  {
   "cell_type": "code",
   "execution_count": 8,
   "metadata": {},
   "outputs": [
    {
     "name": "stdout",
     "output_type": "stream",
     "text": [
      "자켓을 입는다\n"
     ]
    }
   ],
   "source": [
    "temperature = 8\n",
    "if temperature <= 10: #조건부분에는 불린연산이 가능해야 한다.\n",
    "    print(\"자켓을 입는다\")"
   ]
  },
  {
   "cell_type": "code",
   "execution_count": 9,
   "metadata": {},
   "outputs": [],
   "source": [
    "temperature = 16\n",
    "if temperature <= 10: \n",
    "    print(\"자켓을 입는다\")"
   ]
  },
  {
   "cell_type": "markdown",
   "metadata": {},
   "source": [
    "온도가 10도 초과이기 때문에 수행되는 문장이 없다. "
   ]
  },
  {
   "cell_type": "code",
   "execution_count": 11,
   "metadata": {},
   "outputs": [
    {
     "name": "stdout",
     "output_type": "stream",
     "text": [
      "자켓을 입지 않는다\n"
     ]
    }
   ],
   "source": [
    "temperature = 16\n",
    "if temperature <= 10: \n",
    "    print(\"자켓을 입는다\")\n",
    "else:\n",
    "    print(\"자켓을 입지 않는다\")"
   ]
  },
  {
   "cell_type": "markdown",
   "metadata": {},
   "source": [
    "elif문: 조건을 다양하게 추가할 수 있다. 수행부분은 하나만 실행 되야 한다. "
   ]
  },
  {
   "cell_type": "markdown",
   "metadata": {},
   "source": [
    "### 학점계산기\n",
    "학생들에게 최종 성적을 알려 주는 '학점 계산기'를 만들려고 합니다.\n",
    "\n",
    "이 수업에는 50점 만점의 중간고사와 50점 만점의 기말고사가 있는데요. 두 시험의 점수를 합해서 최종 성적을 내는 방식입니다. 규칙은 다음과 같습니다.\n",
    "\n",
    "A: 90점 이상\n",
    "B: 80점 이상 90점 미만\n",
    "C: 70점 이상 80점 미만\n",
    "D: 60점 이상 70점 미만\n",
    "F: 60점 미만\n",
    "    \n",
    "'print_grade' 함수는 파라미터로 중간고사 점수 midterm_score와 기말고사 점수 final_score를 받고, 최종 성적을 출력합니다."
   ]
  },
  {
   "cell_type": "code",
   "execution_count": 14,
   "metadata": {},
   "outputs": [],
   "source": [
    "def print_grade(midterm_score, final_score):\n",
    "    total = midterm_score + final_score\n",
    "\n",
    "    if total >= 90:\n",
    "        print(\"A\")\n",
    "    elif total >= 80:\n",
    "        print(\"B\")\n",
    "    elif total >= 70:\n",
    "        print(\"C\")\n",
    "    elif total >= 60:\n",
    "        print(\"D\")\n",
    "    else:\n",
    "        print(\"F\")"
   ]
  },
  {
   "cell_type": "code",
   "execution_count": 15,
   "metadata": {},
   "outputs": [
    {
     "name": "stdout",
     "output_type": "stream",
     "text": [
      "B\n"
     ]
    }
   ],
   "source": [
    "# 테스트\n",
    "print_grade(40, 45)"
   ]
  },
  {
   "cell_type": "code",
   "execution_count": 16,
   "metadata": {},
   "outputs": [
    {
     "name": "stdout",
     "output_type": "stream",
     "text": [
      "F\n"
     ]
    }
   ],
   "source": [
    "print_grade(20, 35)"
   ]
  },
  {
   "cell_type": "code",
   "execution_count": 18,
   "metadata": {},
   "outputs": [
    {
     "name": "stdout",
     "output_type": "stream",
     "text": [
      "D\n"
     ]
    }
   ],
   "source": [
    "print_grade(30, 32)"
   ]
  },
  {
   "cell_type": "code",
   "execution_count": 19,
   "metadata": {},
   "outputs": [
    {
     "name": "stdout",
     "output_type": "stream",
     "text": [
      "A\n"
     ]
    }
   ],
   "source": [
    "print_grade(50, 45)"
   ]
  },
  {
   "cell_type": "markdown",
   "metadata": {},
   "source": [
    "### 수학문제 1\n",
    "while문과 if문을 활용하여, 100 이하의 자연수 중 8의 배수이지만 12의 배수는 아닌 것을 모두 출력하세요.\n",
    "\n",
    "예를 들어서 16은 8의 배수이지만 12의 배수가 아니니까 조건에 부합합니다. 하지만 48은 8의 배수이면서 12의 배수이기도 해서 조건에 부합하지 않습니다.\n",
    "\n",
    "실행하면 콘솔에 아래와 같이 출력되어야 합니다.\n",
    "```\n",
    "8\n",
    "16\n",
    "32\n",
    "40\n",
    "56\n",
    "64\n",
    "80\n",
    "88\n",
    "```"
   ]
  },
  {
   "cell_type": "code",
   "execution_count": 21,
   "metadata": {},
   "outputs": [
    {
     "name": "stdout",
     "output_type": "stream",
     "text": [
      "8\n",
      "16\n",
      "32\n",
      "40\n",
      "56\n",
      "64\n",
      "80\n",
      "88\n"
     ]
    }
   ],
   "source": [
    "i = 1\n",
    "while i <= 100 :\n",
    "    if i % 8 == 0 and i % 12 != 0 :\n",
    "        print(i)\n",
    "    i += 1"
   ]
  },
  {
   "cell_type": "markdown",
   "metadata": {},
   "source": [
    "### 수학문제2\n",
    "10보다 작은 2 또는 3의 배수는 2, 3, 4, 6, 8, 9이며, 이들의 합은 32입니다.\n",
    "\n",
    "while문과 if문을 활용하여, 1,000보다 작은 자연수 중 2 또는 3의 배수의 합을 출력하는 프로그램을 써 보세요."
   ]
  },
  {
   "cell_type": "code",
   "execution_count": 30,
   "metadata": {},
   "outputs": [
    {
     "name": "stdout",
     "output_type": "stream",
     "text": [
      "333167\n"
     ]
    }
   ],
   "source": [
    "i = 1\n",
    "x = 0 # total\n",
    "while i < 1000 :\n",
    "    if i % 2 == 0 or i % 3 == 0 :\n",
    "        # print(\"{} = {} + {}\".format(x+i,x,i))\n",
    "        # print(f\"{x+i} = {x} + {i}\")        \n",
    "        x += i \n",
    "    i += 1\n",
    "print(x)        print(f\"{x+i} = {x} + {i}\")"
   ]
  },
  {
   "cell_type": "markdown",
   "metadata": {},
   "source": [
    "### 약수찾기\n",
    "정수 n의 약수는 n을 나누었을 때 나누어 떨어지는 수입니다. 만약 정수 i가 정수 n의 약수라면, n을 i로 나누었을 때 나머지가 0이 나와야 하는 거죠.\n",
    "\n",
    "정수 120의 약수를 모두 출력하고, 총 몇개의 약수가 있는지 출력하는 프로그램을 써 보세요. 아래처럼 콘솔에 출력되어야 합니다.\n",
    "```\n",
    "1\n",
    "2\n",
    "3\n",
    "4\n",
    "5\n",
    "6\n",
    "8\n",
    "10\n",
    "12\n",
    "15\n",
    "20\n",
    "24\n",
    "30\n",
    "40\n",
    "60\n",
    "120\n",
    "120의 약수는 총 16개입니다.\n",
    "```"
   ]
  },
  {
   "cell_type": "code",
   "execution_count": 31,
   "metadata": {},
   "outputs": [
    {
     "name": "stdout",
     "output_type": "stream",
     "text": [
      "1\n",
      "2\n",
      "3\n",
      "4\n",
      "5\n",
      "6\n",
      "8\n",
      "10\n",
      "12\n",
      "15\n",
      "20\n",
      "24\n",
      "30\n",
      "40\n",
      "60\n",
      "120\n",
      "120의 약수는 총 16개입니다.\n"
     ]
    }
   ],
   "source": [
    "N = 120\n",
    "i = 1\n",
    "x = 0 #count\n",
    "while i <= N:\n",
    "    if 120 % i == 0 :\n",
    "        print(i)\n",
    "        x += 1\n",
    "    i += 1\n",
    "print(f\"{N}의 약수는 총 {x}개입니다.\")"
   ]
  },
  {
   "cell_type": "markdown",
   "metadata": {},
   "source": [
    "### 택이의 우승상금\n",
    "1988년 쌍문동에 사는 택이는 바둑 대회 우승 상금으로 5,000만원을 받았습니다. 하지만 바둑 외에는 아는 게 없으니, 이웃 어른들에게 이 돈으로 무엇을 해야 할지 물어보기로 하였습니다.\n",
    "\n",
    "은행에서 근무하는 동일 아저씨는 은행에 돈을 맡겨서 매년 이자로 12%씩 받는 것을 추천하셨습니다. 1년 후인 1989년에는 5,000만원의 12% 이자인 600만원이 더해져 5,600만원이 된다고 하면서요.\n",
    "\n",
    "이 이야기를 들은 미란 아주머니는 고작 12% 때문에 생돈을 은행에 넣느냐며, 얼마 전 지어진 은마아파트를 사라고 추천하셨습니다. 당시 은마아파트의 매매가는 5,000만원이었죠.\n",
    "\n",
    "2016년 기준 은마아파트의 매매가는 11억원인데요. 1988년 은행에 5,000만원을 넣었을 경우 2016년에는 얼마가 있을지 계산하여, 동일 아저씨와 미란 아주머니 중 누구의 말을 듣는 것이 좋았을지 판단해 보세요. 2016년 은행에 얼마가 있을지는 꼭 while문을 사용해서 계산해 주세요!\n",
    "\n",
    "2016년에 은행에 저축해 둔 금액이 더 크면, *원 차이로 동일 아저씨 말씀이 맞습니다.가 출력되도록 하세요. 반대로 은마아파트의 가격이 더 크면, *원 차이로 미란 아주머니 말씀이 맞습니다.가 출력되도록 하세요. 여기서는 꼭 if문을 사용해 주세요!"
   ]
  },
  {
   "cell_type": "code",
   "execution_count": 46,
   "metadata": {},
   "outputs": [
    {
     "name": "stdout",
     "output_type": "stream",
     "text": [
      "94193324원 차이로 동일 아저씨 말씀이 맞습니다.\n",
      "94,193,324원 차이로 동일 아저씨 말씀이 맞습니다.\n"
     ]
    }
   ],
   "source": [
    "Y1 = 1988\n",
    "Y2 = 2016\n",
    "N = Y2 - Y1\n",
    "I = 0.12\n",
    "P = 50000000\n",
    "E = 1100000000\n",
    "i = 1\n",
    "while i <= N :\n",
    "    P = P*(1+I)\n",
    "    i += 1\n",
    "if P > E :\n",
    "    print(f\"{round(P - E)}원 차이로 동일 아저씨 말씀이 맞습니다.\")\n",
    "    print(f\"{P - E:,.0f}원 차이로 동일 아저씨 말씀이 맞습니다.\")\n",
    "else :\n",
    "    print(f\"{round(E - P)}원 차이로 미란 아주머니 말씀이 맞습니다.\")\n",
    "    print(f\"{E - P:,.0f}원 차이로 미란 아주머니 말씀이 맞습니다.\")"
   ]
  },
  {
   "cell_type": "code",
   "execution_count": 47,
   "metadata": {},
   "outputs": [
    {
     "data": {
      "text/plain": [
       "2971215073"
      ]
     },
     "execution_count": 47,
     "metadata": {},
     "output_type": "execute_result"
    }
   ],
   "source": [
    "10749957122 - 7778742049"
   ]
  },
  {
   "cell_type": "markdown",
   "metadata": {},
   "source": [
    "### 피보나치 수열\n",
    "피보나치 수열(Fibonacci Sequence)라고 들어 보셨나요?\n",
    "\n",
    "1, 1, 2, 3, 5, 8, 13, 21, 34, 55, ...\n",
    "1,1,2,3,5,8,13,21,34,55,...\n",
    "\n",
    "우선 피보나치 수열의 1번 항과 2번 항은 각각 1입니다. 3번 항부터는 바로 앞 두 항의 합으로 계산됩니다. 예를 들어서 3번 항은 1번 항(1)과 2번 항(1)을 더한 2이며, 4번 항은 2번 항(1)과 3번 항(2)을 더한 3입니다.\n",
    "\n",
    "피보나치 수열의 첫 50개 항을 차례대로 출력하는 프로그램을 작성해 보세요."
   ]
  },
  {
   "cell_type": "code",
   "execution_count": 48,
   "metadata": {},
   "outputs": [
    {
     "name": "stdout",
     "output_type": "stream",
     "text": [
      "1\n",
      "1\n",
      "2\n",
      "3\n",
      "5\n",
      "8\n",
      "13\n",
      "21\n",
      "34\n",
      "55\n",
      "89\n",
      "144\n",
      "233\n",
      "377\n",
      "610\n",
      "987\n",
      "1597\n",
      "2584\n",
      "4181\n",
      "6765\n",
      "10946\n",
      "17711\n",
      "28657\n",
      "46368\n",
      "75025\n",
      "121393\n",
      "196418\n",
      "317811\n",
      "514229\n",
      "832040\n",
      "1346269\n",
      "2178309\n",
      "3524578\n",
      "5702887\n",
      "9227465\n",
      "14930352\n",
      "24157817\n",
      "39088169\n",
      "63245986\n",
      "102334155\n",
      "165580141\n",
      "267914296\n",
      "433494437\n",
      "701408733\n",
      "1134903170\n",
      "1836311903\n",
      "2971215073\n",
      "4807526976\n",
      "7778742049\n",
      "12586269025\n"
     ]
    }
   ],
   "source": [
    "# My Answer\n",
    "a = 1\n",
    "b = a \n",
    "n = 3\n",
    "print(a)\n",
    "print(b)\n",
    "while n <= 50 :\n",
    "    c = a + b \n",
    "    print(c)\n",
    "    n += 1\n",
    "    if n <= 50 :\n",
    "        a = b + c \n",
    "        print(a)\n",
    "        n += 1\n",
    "        if n <= 50 :\n",
    "            b = c + a \n",
    "            print(b)\n",
    "            n += 1"
   ]
  },
  {
   "cell_type": "code",
   "execution_count": 52,
   "metadata": {},
   "outputs": [
    {
     "name": "stdout",
     "output_type": "stream",
     "text": [
      "1\n",
      "1\n",
      "2\n",
      "3\n",
      "5\n",
      "8\n",
      "13\n",
      "21\n",
      "34\n",
      "55\n",
      "89\n",
      "144\n",
      "233\n",
      "377\n",
      "610\n",
      "987\n",
      "1597\n",
      "2584\n",
      "4181\n",
      "6765\n",
      "10946\n",
      "17711\n",
      "28657\n",
      "46368\n",
      "75025\n",
      "121393\n",
      "196418\n",
      "317811\n",
      "514229\n",
      "832040\n",
      "1346269\n",
      "2178309\n",
      "3524578\n",
      "5702887\n",
      "9227465\n",
      "14930352\n",
      "24157817\n",
      "39088169\n",
      "63245986\n",
      "102334155\n",
      "165580141\n",
      "267914296\n",
      "433494437\n",
      "701408733\n",
      "1134903170\n",
      "1836311903\n",
      "2971215073\n",
      "4807526976\n",
      "7778742049\n",
      "12586269025\n"
     ]
    }
   ],
   "source": [
    "# 더 간결한 코드\n",
    "previous = 0\n",
    "current = 1\n",
    "i = 1\n",
    "\n",
    "while i <= 50:\n",
    "    print(current)\n",
    "    temp = previous  # previous를 임시 보관소 temp에 저장\n",
    "    previous = current\n",
    "    current = current + temp  # temp에는 기존 previous 값이 저장돼 있음\n",
    "    i += 1\n",
    "  "
   ]
  },
  {
   "cell_type": "markdown",
   "metadata": {},
   "source": [
    "### 구구단\n",
    "while문을 사용해서 구구단 프로그램을 만들어 봅시다. 실행하면 아래와 같은 결과물이 출력되어야 합니다.\n",
    "```\n",
    "1 * 1 = 1\n",
    "1 * 2 = 2\n",
    "1 * 3 = 3\n",
    ".\n",
    ".\n",
    ".\n",
    "9 * 7 = 63\n",
    "9 * 8 = 72\n",
    "9 * 9 = 81\n",
    "```"
   ]
  },
  {
   "cell_type": "code",
   "execution_count": 61,
   "metadata": {},
   "outputs": [
    {
     "name": "stdout",
     "output_type": "stream",
     "text": [
      "1 * 1 = 1\n",
      "1 * 2 = 2\n",
      "1 * 3 = 3\n",
      "1 * 4 = 4\n",
      "1 * 5 = 5\n",
      "1 * 6 = 6\n",
      "1 * 7 = 7\n",
      "1 * 8 = 8\n",
      "1 * 9 = 9\n",
      "2 * 1 = 2\n",
      "2 * 2 = 4\n",
      "2 * 3 = 6\n",
      "2 * 4 = 8\n",
      "2 * 5 = 10\n",
      "2 * 6 = 12\n",
      "2 * 7 = 14\n",
      "2 * 8 = 16\n",
      "2 * 9 = 18\n",
      "3 * 1 = 3\n",
      "3 * 2 = 6\n",
      "3 * 3 = 9\n",
      "3 * 4 = 12\n",
      "3 * 5 = 15\n",
      "3 * 6 = 18\n",
      "3 * 7 = 21\n",
      "3 * 8 = 24\n",
      "3 * 9 = 27\n",
      "4 * 1 = 4\n",
      "4 * 2 = 8\n",
      "4 * 3 = 12\n",
      "4 * 4 = 16\n",
      "4 * 5 = 20\n",
      "4 * 6 = 24\n",
      "4 * 7 = 28\n",
      "4 * 8 = 32\n",
      "4 * 9 = 36\n",
      "5 * 1 = 5\n",
      "5 * 2 = 10\n",
      "5 * 3 = 15\n",
      "5 * 4 = 20\n",
      "5 * 5 = 25\n",
      "5 * 6 = 30\n",
      "5 * 7 = 35\n",
      "5 * 8 = 40\n",
      "5 * 9 = 45\n",
      "6 * 1 = 6\n",
      "6 * 2 = 12\n",
      "6 * 3 = 18\n",
      "6 * 4 = 24\n",
      "6 * 5 = 30\n",
      "6 * 6 = 36\n",
      "6 * 7 = 42\n",
      "6 * 8 = 48\n",
      "6 * 9 = 54\n",
      "7 * 1 = 7\n",
      "7 * 2 = 14\n",
      "7 * 3 = 21\n",
      "7 * 4 = 28\n",
      "7 * 5 = 35\n",
      "7 * 6 = 42\n",
      "7 * 7 = 49\n",
      "7 * 8 = 56\n",
      "7 * 9 = 63\n",
      "8 * 1 = 8\n",
      "8 * 2 = 16\n",
      "8 * 3 = 24\n",
      "8 * 4 = 32\n",
      "8 * 5 = 40\n",
      "8 * 6 = 48\n",
      "8 * 7 = 56\n",
      "8 * 8 = 64\n",
      "8 * 9 = 72\n",
      "9 * 1 = 9\n",
      "9 * 2 = 18\n",
      "9 * 3 = 27\n",
      "9 * 4 = 36\n",
      "9 * 5 = 45\n",
      "9 * 6 = 54\n",
      "9 * 7 = 63\n",
      "9 * 8 = 72\n",
      "9 * 9 = 81\n"
     ]
    }
   ],
   "source": [
    "i = 1\n",
    "\n",
    "while i <= 9:\n",
    "    n = 1\n",
    "    while n <= 9:\n",
    "        print(f\"{i} * {n} = {i*n}\")\n",
    "        n +=1\n",
    "    i = i + 1"
   ]
  },
  {
   "cell_type": "markdown",
   "metadata": {},
   "source": [
    "## break 문\n",
    "while문의 조건 부분과 상관 없이 반복문에서 나오고 싶을 떄 사용"
   ]
  },
  {
   "cell_type": "code",
   "execution_count": 62,
   "metadata": {},
   "outputs": [
    {
     "name": "stdout",
     "output_type": "stream",
     "text": [
      "115\n"
     ]
    }
   ],
   "source": [
    "i = 100\n",
    "\n",
    "while True:\n",
    "    # i가 23의 배수면 반복문을 끝냄\n",
    "    if i % 23 == 0:\n",
    "        break\n",
    "    i += 1\n",
    "print(i)"
   ]
  },
  {
   "cell_type": "markdown",
   "metadata": {},
   "source": [
    "## continue문\n",
    "현재 진행되고 있는 수행 부분을 중단하고 바로 조건 부분을 확인 하고 싶을 때 사용"
   ]
  },
  {
   "cell_type": "code",
   "execution_count": 63,
   "metadata": {},
   "outputs": [
    {
     "name": "stdout",
     "output_type": "stream",
     "text": [
      "2\n",
      "4\n",
      "6\n",
      "8\n",
      "10\n",
      "12\n",
      "14\n"
     ]
    }
   ],
   "source": [
    "i = 0\n",
    "\n",
    "while i < 15:\n",
    "    i +=1\n",
    "    \n",
    "    # i가 홀수면 print(i) 안 하고 바로 조건 부분으로 돌아감\n",
    "    if i % 2 == 1:\n",
    "        continue\n",
    "    print(i)"
   ]
  },
  {
   "cell_type": "code",
   "execution_count": null,
   "metadata": {},
   "outputs": [],
   "source": []
  }
 ],
 "metadata": {
  "kernelspec": {
   "display_name": "Python 3",
   "language": "python",
   "name": "python3"
  },
  "language_info": {
   "codemirror_mode": {
    "name": "ipython",
    "version": 3
   },
   "file_extension": ".py",
   "mimetype": "text/x-python",
   "name": "python",
   "nbconvert_exporter": "python",
   "pygments_lexer": "ipython3",
   "version": "3.8.5"
  },
  "toc": {
   "base_numbering": 1,
   "nav_menu": {},
   "number_sections": true,
   "sideBar": true,
   "skip_h1_title": false,
   "title_cell": "Table of Contents",
   "title_sidebar": "Contents",
   "toc_cell": false,
   "toc_position": {},
   "toc_section_display": true,
   "toc_window_display": false
  }
 },
 "nbformat": 4,
 "nbformat_minor": 4
}
