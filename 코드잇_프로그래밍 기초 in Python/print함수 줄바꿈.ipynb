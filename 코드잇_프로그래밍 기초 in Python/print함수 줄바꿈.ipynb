{
 "cells": [
  {
   "cell_type": "markdown",
   "metadata": {},
   "source": [
    "# Print 함수\n",
    "## 기본 구조"
   ]
  },
  {
   "cell_type": "markdown",
   "metadata": {},
   "source": [
    "print(object(s), sep=separator, end=end, file=file, flush=flush)"
   ]
  },
  {
   "cell_type": "code",
   "execution_count": 5,
   "metadata": {},
   "outputs": [
    {
     "name": "stdout",
     "output_type": "stream",
     "text": [
      "Hello, World!\n"
     ]
    }
   ],
   "source": [
    "print(\"Hello, World!\")"
   ]
  },
  {
   "cell_type": "code",
   "execution_count": 6,
   "metadata": {
    "scrolled": true
   },
   "outputs": [
    {
     "ename": "SyntaxError",
     "evalue": "invalid syntax (<ipython-input-6-0eb003ed9968>, line 1)",
     "output_type": "error",
     "traceback": [
      "\u001b[1;36m  File \u001b[1;32m\"<ipython-input-6-0eb003ed9968>\"\u001b[1;36m, line \u001b[1;32m1\u001b[0m\n\u001b[1;33m    print(Hello, World!)\u001b[0m\n\u001b[1;37m                      ^\u001b[0m\n\u001b[1;31mSyntaxError\u001b[0m\u001b[1;31m:\u001b[0m invalid syntax\n"
     ]
    }
   ],
   "source": [
    "print(Hello, World!)"
   ]
  },
  {
   "cell_type": "markdown",
   "metadata": {},
   "source": [
    "## 줄바꿈\n",
    "### print 여러개"
   ]
  },
  {
   "cell_type": "code",
   "execution_count": 7,
   "metadata": {},
   "outputs": [
    {
     "name": "stdout",
     "output_type": "stream",
     "text": [
      "파이썬을 시작했다.\n",
      "제일 쉽고 간단한 언어라는데,\n",
      "처음부터 쉽지 않은 것 같다.\n",
      "하다보면 나도 잘 할 수 있겠지?\n"
     ]
    }
   ],
   "source": [
    "print(\"파이썬을 시작했다.\")\n",
    "print(\"제일 쉽고 간단한 언어라는데,\")\n",
    "print(\"처음부터 쉽지 않은 것 같다.\")\n",
    "print(\"하다보면 나도 잘 할 수 있겠지?\")"
   ]
  },
  {
   "cell_type": "markdown",
   "metadata": {},
   "source": [
    "### 주석기호 \"\"\" 사용"
   ]
  },
  {
   "cell_type": "code",
   "execution_count": 23,
   "metadata": {
    "scrolled": true
   },
   "outputs": [
    {
     "name": "stdout",
     "output_type": "stream",
     "text": [
      "파이썬을 시작했다.\n",
      "    제일 쉽고 간단한 언어라는데,\n",
      "    처음부터 쉽지 않은 것 같다.\n",
      "    하다보면 나도 잘 할 수 있겠지?\n"
     ]
    }
   ],
   "source": [
    "def pyfighting():\n",
    "    print(\"\"\"파이썬을 시작했다.\n",
    "    제일 쉽고 간단한 언어라는데,\n",
    "    처음부터 쉽지 않은 것 같다.\n",
    "    하다보면 나도 잘 할 수 있겠지?\"\"\")\n",
    "    \n",
    "pyfighting()"
   ]
  },
  {
   "cell_type": "markdown",
   "metadata": {},
   "source": [
    "### 파라미터 sep 변경 "
   ]
  },
  {
   "cell_type": "code",
   "execution_count": 27,
   "metadata": {},
   "outputs": [
    {
     "name": "stdout",
     "output_type": "stream",
     "text": [
      "파이썬을 시작했다. 나도 잘 할 수 있겠지?\n"
     ]
    }
   ],
   "source": [
    "# 기본설정 : 스페이스\n",
    "print(\"파이썬을 시작했다.\",\"나도 잘 할 수 있겠지?\")"
   ]
  },
  {
   "cell_type": "markdown",
   "metadata": {},
   "source": [
    "sep = '\\n'"
   ]
  },
  {
   "cell_type": "code",
   "execution_count": 22,
   "metadata": {},
   "outputs": [
    {
     "name": "stdout",
     "output_type": "stream",
     "text": [
      "파이썬을 시작했다.\n",
      "제일 쉽고 간단한 언어라는데,\n",
      "처음부터 쉽지 않은 것 같다.\n",
      "하다보면 나도 잘 할 수 있겠지?\n"
     ]
    }
   ],
   "source": [
    "print(\"파이썬을 시작했다.\",\"제일 쉽고 간단한 언어라는데,\",\"처음부터 쉽지 않은 것 같다.\",\"하다보면 나도 잘 할 수 있겠지?\",sep='\\n')"
   ]
  },
  {
   "cell_type": "markdown",
   "metadata": {},
   "source": [
    "### escape 기호 '\\n' 활용"
   ]
  },
  {
   "cell_type": "code",
   "execution_count": 26,
   "metadata": {},
   "outputs": [
    {
     "name": "stdout",
     "output_type": "stream",
     "text": [
      "파이썬을 시작했다.\n",
      "제일 쉽고 간단한 언어라는데,\n",
      "처음부터 쉽지 않은 것 같다.\n",
      "하다보면 나도 잘 할 수 있겠지?\n"
     ]
    }
   ],
   "source": [
    "print(\"파이썬을 시작했다.\\n제일 쉽고 간단한 언어라는데,\\n처음부터 쉽지 않은 것 같다.\\n하다보면 나도 잘 할 수 있겠지?\")"
   ]
  },
  {
   "cell_type": "code",
   "execution_count": null,
   "metadata": {},
   "outputs": [],
   "source": []
  }
 ],
 "metadata": {
  "kernelspec": {
   "display_name": "Python 3",
   "language": "python",
   "name": "python3"
  },
  "language_info": {
   "codemirror_mode": {
    "name": "ipython",
    "version": 3
   },
   "file_extension": ".py",
   "mimetype": "text/x-python",
   "name": "python",
   "nbconvert_exporter": "python",
   "pygments_lexer": "ipython3",
   "version": "3.8.5"
  },
  "toc": {
   "base_numbering": 1,
   "nav_menu": {},
   "number_sections": true,
   "sideBar": true,
   "skip_h1_title": false,
   "title_cell": "Table of Contents",
   "title_sidebar": "Contents",
   "toc_cell": false,
   "toc_position": {},
   "toc_section_display": true,
   "toc_window_display": false
  }
 },
 "nbformat": 4,
 "nbformat_minor": 4
}
